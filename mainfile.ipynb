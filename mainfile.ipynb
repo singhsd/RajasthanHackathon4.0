{
 "cells": [
  {
   "cell_type": "markdown",
   "metadata": {},
   "source": [
    "import the keras library"
   ]
  },
  {
   "cell_type": "code",
   "execution_count": 2,
   "metadata": {},
   "outputs": [
    {
     "name": "stderr",
     "output_type": "stream",
     "text": [
      "C:\\Users\\Aditya Verma\\Anaconda3\\lib\\site-packages\\h5py\\__init__.py:36: FutureWarning: Conversion of the second argument of issubdtype from `float` to `np.floating` is deprecated. In future, it will be treated as `np.float64 == np.dtype(float).type`.\n",
      "  from ._conv import register_converters as _register_converters\n",
      "Using TensorFlow backend.\n"
     ]
    }
   ],
   "source": [
    "from keras.models import Sequential\n",
    "from keras.layers import Conv2D\n",
    "from keras.layers import MaxPooling2D\n",
    "from keras.layers import Flatten\n",
    "from keras.layers import Dense, Dropout\n",
    "from keras import optimizers"
   ]
  },
  {
   "cell_type": "markdown",
   "metadata": {},
   "source": [
    "initialise the convolution neural network classifier\n"
   ]
  },
  {
   "cell_type": "code",
   "execution_count": 3,
   "metadata": {},
   "outputs": [],
   "source": [
    "classifier= Sequential()"
   ]
  },
  {
   "cell_type": "code",
   "execution_count": 4,
   "metadata": {},
   "outputs": [],
   "source": [
    "# Step 1 : Convolution\n",
    "classifier.add(Conv2D(64, (3, 3), input_shape = (64, 64, 3), activation = 'relu'))"
   ]
  },
  {
   "cell_type": "code",
   "execution_count": 5,
   "metadata": {},
   "outputs": [],
   "source": [
    "# Step 2 - Pooling\n",
    "classifier.add(MaxPooling2D(pool_size = (2, 2)))\n",
    "# Adding a second convolutional layer\n",
    "classifier.add(Conv2D(32, (3, 3), activation = 'relu'))\n",
    "classifier.add(MaxPooling2D(pool_size = (2, 2)))"
   ]
  },
  {
   "cell_type": "code",
   "execution_count": 6,
   "metadata": {},
   "outputs": [],
   "source": [
    "# Step 3 - Flattening\n",
    "classifier.add(Flatten())"
   ]
  },
  {
   "cell_type": "code",
   "execution_count": 7,
   "metadata": {},
   "outputs": [],
   "source": [
    "# Step 4 - Full connection\n",
    "classifier.add(Dense(units = 128, activation = 'relu'))\n",
    "classifier.add(Dense(units = 1, activation = 'sigmoid'))\n",
    "# Compiling the CNN \n",
    "# use sgd optimizer by varying moments\n",
    "sgd = optimizers.SGD(lr =  0.01, decay=1e-6, momentum=0.9)\n",
    "classifier.compile(optimizer = sgd, loss = 'binary_crossentropy', metrics = ['accuracy'])"
   ]
  },
  {
   "cell_type": "code",
   "execution_count": 8,
   "metadata": {},
   "outputs": [],
   "source": [
    "# Part 2 - Fitting the CNN to the images\n",
    "from keras.preprocessing.image import ImageDataGenerator\n",
    "train_datagen = ImageDataGenerator(rescale = 1./255,\n",
    "shear_range = 0.2,\n",
    "zoom_range = 0.2,\n",
    "horizontal_flip = True)\n",
    "test_datagen = ImageDataGenerator(rescale = 1./255)"
   ]
  },
  {
   "cell_type": "code",
   "execution_count": 12,
   "metadata": {},
   "outputs": [
    {
     "name": "stdout",
     "output_type": "stream",
     "text": [
      "Found 1912 images belonging to 2 classes.\n"
     ]
    }
   ],
   "source": [
    "training_set = train_datagen.flow_from_directory(r\"C:\\Users\\Aditya Verma\\Desktop\\Rajasthan4\\Train\\Train\\dataset-resized\",\n",
    "target_size = (64, 64),\n",
    "batch_size = 32,\n",
    "class_mode = 'binary')"
   ]
  },
  {
   "cell_type": "code",
   "execution_count": 13,
   "metadata": {},
   "outputs": [
    {
     "name": "stdout",
     "output_type": "stream",
     "text": [
      "Found 607 images belonging to 2 classes.\n"
     ]
    }
   ],
   "source": [
    "test_set = test_datagen.flow_from_directory(r\"C:\\Users\\Aditya Verma\\Desktop\\Rajasthan4\\Hack36_Pyenoma-artigent-master\\Hack36_Pyenoma-artigent-master\\test\",\n",
    "target_size = (64, 64),\n",
    "batch_size = 32,\n",
    "class_mode = 'binary')"
   ]
  },
  {
   "cell_type": "code",
   "execution_count": 27,
   "metadata": {},
   "outputs": [
    {
     "name": "stdout",
     "output_type": "stream",
     "text": [
      "Epoch 1/100\n",
      "40/40 [==============================] - 29s 728ms/step - loss: 0.0134 - acc: 0.9977 - val_loss: 0.4929 - val_acc: 0.9108\n",
      "Epoch 2/100\n",
      "40/40 [==============================] - 28s 701ms/step - loss: 0.0090 - acc: 0.9977 - val_loss: 0.4137 - val_acc: 0.9139\n",
      "Epoch 3/100\n",
      "40/40 [==============================] - 27s 677ms/step - loss: 0.0237 - acc: 0.9943 - val_loss: 0.6239 - val_acc: 0.8920\n",
      "Epoch 4/100\n",
      "40/40 [==============================] - 28s 698ms/step - loss: 0.0503 - acc: 0.9844 - val_loss: 0.6933 - val_acc: 0.8732\n",
      "Epoch 5/100\n",
      "40/40 [==============================] - 29s 714ms/step - loss: 0.0910 - acc: 0.9711 - val_loss: 0.4586 - val_acc: 0.9030\n",
      "Epoch 6/100\n",
      "40/40 [==============================] - 29s 722ms/step - loss: 0.0418 - acc: 0.9797 - val_loss: 0.4243 - val_acc: 0.9045\n",
      "Epoch 7/100\n",
      "40/40 [==============================] - 30s 747ms/step - loss: 0.1304 - acc: 0.9633 - val_loss: 0.4909 - val_acc: 0.8873\n",
      "Epoch 8/100\n",
      "40/40 [==============================] - 27s 679ms/step - loss: 0.0536 - acc: 0.9805 - val_loss: 0.5562 - val_acc: 0.8920\n",
      "Epoch 9/100\n",
      "40/40 [==============================] - 29s 722ms/step - loss: 0.0352 - acc: 0.9859 - val_loss: 0.4079 - val_acc: 0.9218\n",
      "Epoch 10/100\n",
      "40/40 [==============================] - 28s 712ms/step - loss: 0.0365 - acc: 0.9883 - val_loss: 0.6511 - val_acc: 0.8576\n",
      "Epoch 11/100\n",
      "40/40 [==============================] - 28s 698ms/step - loss: 0.1370 - acc: 0.9578 - val_loss: 0.4356 - val_acc: 0.9124\n",
      "Epoch 12/100\n",
      "40/40 [==============================] - 27s 685ms/step - loss: 0.0426 - acc: 0.9828 - val_loss: 0.3754 - val_acc: 0.9045\n",
      "Epoch 13/100\n",
      "40/40 [==============================] - 29s 716ms/step - loss: 0.0863 - acc: 0.9773 - val_loss: 0.6269 - val_acc: 0.8732\n",
      "Epoch 14/100\n",
      "40/40 [==============================] - 28s 703ms/step - loss: 0.0556 - acc: 0.9828 - val_loss: 0.4023 - val_acc: 0.9139\n",
      "Epoch 15/100\n",
      "40/40 [==============================] - 28s 694ms/step - loss: 0.0517 - acc: 0.9852 - val_loss: 0.3830 - val_acc: 0.9077\n",
      "Epoch 16/100\n",
      "40/40 [==============================] - 27s 667ms/step - loss: 0.0340 - acc: 0.9906 - val_loss: 0.3965 - val_acc: 0.9045\n",
      "Epoch 17/100\n",
      "40/40 [==============================] - 26s 661ms/step - loss: 0.0150 - acc: 0.9961 - val_loss: 0.3541 - val_acc: 0.9108\n",
      "Epoch 18/100\n",
      "40/40 [==============================] - 28s 708ms/step - loss: 0.0096 - acc: 0.9969 - val_loss: 0.3910 - val_acc: 0.9124\n",
      "Epoch 19/100\n",
      "40/40 [==============================] - 26s 639ms/step - loss: 0.0104 - acc: 0.9961 - val_loss: 0.3159 - val_acc: 0.9138\n",
      "Epoch 20/100\n",
      "40/40 [==============================] - 28s 699ms/step - loss: 0.0089 - acc: 0.9969 - val_loss: 0.3704 - val_acc: 0.9139\n",
      "Epoch 21/100\n",
      "40/40 [==============================] - 28s 699ms/step - loss: 0.0072 - acc: 0.9977 - val_loss: 0.3812 - val_acc: 0.9139\n",
      "Epoch 22/100\n",
      "40/40 [==============================] - 27s 687ms/step - loss: 0.0138 - acc: 0.9945 - val_loss: 0.3675 - val_acc: 0.9218\n",
      "Epoch 23/100\n",
      "40/40 [==============================] - 28s 694ms/step - loss: 0.0070 - acc: 0.9984 - val_loss: 0.3184 - val_acc: 0.9311\n",
      "Epoch 24/100\n",
      "40/40 [==============================] - 28s 712ms/step - loss: 0.0186 - acc: 0.9927 - val_loss: 0.3881 - val_acc: 0.9030\n",
      "Epoch 25/100\n",
      "40/40 [==============================] - 28s 701ms/step - loss: 0.0085 - acc: 0.9977 - val_loss: 0.3775 - val_acc: 0.9218\n",
      "Epoch 26/100\n",
      "40/40 [==============================] - 28s 689ms/step - loss: 0.0106 - acc: 0.9961 - val_loss: 0.3144 - val_acc: 0.9139\n",
      "Epoch 27/100\n",
      "40/40 [==============================] - 28s 705ms/step - loss: 0.0102 - acc: 0.9969 - val_loss: 0.4413 - val_acc: 0.9139\n",
      "Epoch 28/100\n",
      "40/40 [==============================] - 28s 704ms/step - loss: 0.0027 - acc: 1.0000 - val_loss: 0.2858 - val_acc: 0.9218\n",
      "Epoch 29/100\n",
      "40/40 [==============================] - 27s 675ms/step - loss: 0.0080 - acc: 0.9961 - val_loss: 0.5519 - val_acc: 0.9014\n",
      "Epoch 30/100\n",
      "40/40 [==============================] - 28s 695ms/step - loss: 0.0164 - acc: 0.9961 - val_loss: 0.5298 - val_acc: 0.9045\n",
      "Epoch 31/100\n",
      "40/40 [==============================] - 28s 705ms/step - loss: 0.0189 - acc: 0.9937 - val_loss: 0.3583 - val_acc: 0.9155\n",
      "Epoch 32/100\n",
      "40/40 [==============================] - 28s 710ms/step - loss: 0.0280 - acc: 0.9883 - val_loss: 0.6792 - val_acc: 0.8873\n",
      "Epoch 33/100\n",
      "40/40 [==============================] - 28s 703ms/step - loss: 0.0206 - acc: 0.9958 - val_loss: 0.4627 - val_acc: 0.9014\n",
      "Epoch 34/100\n",
      "40/40 [==============================] - 28s 697ms/step - loss: 0.0144 - acc: 0.9937 - val_loss: 0.4173 - val_acc: 0.9186\n",
      "Epoch 35/100\n",
      "40/40 [==============================] - 24s 605ms/step - loss: 0.0173 - acc: 0.9914 - val_loss: 0.4793 - val_acc: 0.9171\n",
      "Epoch 36/100\n",
      "40/40 [==============================] - 24s 602ms/step - loss: 0.0266 - acc: 0.9898 - val_loss: 0.5464 - val_acc: 0.8826\n",
      "Epoch 37/100\n",
      "40/40 [==============================] - 24s 600ms/step - loss: 0.0276 - acc: 0.9896 - val_loss: 0.4583 - val_acc: 0.9061\n",
      "Epoch 38/100\n",
      "40/40 [==============================] - 24s 601ms/step - loss: 0.0392 - acc: 0.9898 - val_loss: 0.4661 - val_acc: 0.8997\n",
      "Epoch 39/100\n",
      "40/40 [==============================] - 24s 595ms/step - loss: 0.0370 - acc: 0.9906 - val_loss: 0.4764 - val_acc: 0.9077\n",
      "Epoch 40/100\n",
      "40/40 [==============================] - 24s 609ms/step - loss: 0.0184 - acc: 0.9930 - val_loss: 0.4938 - val_acc: 0.9045\n",
      "Epoch 41/100\n",
      "40/40 [==============================] - 24s 602ms/step - loss: 0.0286 - acc: 0.9896 - val_loss: 0.6286 - val_acc: 0.8967\n",
      "Epoch 42/100\n",
      "40/40 [==============================] - 24s 589ms/step - loss: 0.0168 - acc: 0.9937 - val_loss: 0.4679 - val_acc: 0.8998\n",
      "Epoch 43/100\n",
      "40/40 [==============================] - 24s 595ms/step - loss: 0.0606 - acc: 0.9810 - val_loss: 0.6378 - val_acc: 0.8466\n",
      "Epoch 44/100\n",
      "40/40 [==============================] - 24s 591ms/step - loss: 0.0735 - acc: 0.9781 - val_loss: 0.5040 - val_acc: 0.8795\n",
      "Epoch 45/100\n",
      "40/40 [==============================] - 24s 595ms/step - loss: 0.0179 - acc: 0.9930 - val_loss: 0.4586 - val_acc: 0.9139\n",
      "Epoch 46/100\n",
      "40/40 [==============================] - 24s 598ms/step - loss: 0.0089 - acc: 0.9977 - val_loss: 0.4841 - val_acc: 0.9124\n",
      "Epoch 47/100\n",
      "40/40 [==============================] - 24s 606ms/step - loss: 0.0056 - acc: 0.9984 - val_loss: 0.3811 - val_acc: 0.9092\n",
      "Epoch 48/100\n",
      "40/40 [==============================] - 25s 637ms/step - loss: 0.0096 - acc: 0.9990 - val_loss: 0.4369 - val_acc: 0.9233\n",
      "Epoch 49/100\n",
      "40/40 [==============================] - 24s 600ms/step - loss: 0.0035 - acc: 1.0000 - val_loss: 0.3939 - val_acc: 0.9249\n",
      "Epoch 50/100\n",
      "40/40 [==============================] - 25s 636ms/step - loss: 0.0046 - acc: 0.9977 - val_loss: 0.3055 - val_acc: 0.9311\n",
      "Epoch 51/100\n",
      "40/40 [==============================] - 25s 624ms/step - loss: 0.0084 - acc: 0.9969 - val_loss: 0.5557 - val_acc: 0.9108\n",
      "Epoch 52/100\n",
      "40/40 [==============================] - 24s 596ms/step - loss: 0.0051 - acc: 0.9984 - val_loss: 0.3532 - val_acc: 0.9124\n",
      "Epoch 53/100\n",
      "40/40 [==============================] - 23s 575ms/step - loss: 0.0027 - acc: 1.0000 - val_loss: 0.4153 - val_acc: 0.9233\n",
      "Epoch 54/100\n",
      "40/40 [==============================] - 24s 591ms/step - loss: 0.0072 - acc: 0.9961 - val_loss: 0.4464 - val_acc: 0.9108\n",
      "Epoch 55/100\n",
      "40/40 [==============================] - 23s 577ms/step - loss: 0.0254 - acc: 0.9930 - val_loss: 0.5485 - val_acc: 0.8920\n",
      "Epoch 56/100\n",
      "40/40 [==============================] - 25s 628ms/step - loss: 0.0376 - acc: 0.9883 - val_loss: 0.5161 - val_acc: 0.8811\n",
      "Epoch 57/100\n",
      "40/40 [==============================] - 23s 578ms/step - loss: 0.0694 - acc: 0.9813 - val_loss: 0.5620 - val_acc: 0.8887\n",
      "Epoch 58/100\n",
      "40/40 [==============================] - 23s 575ms/step - loss: 0.0217 - acc: 0.9937 - val_loss: 0.4168 - val_acc: 0.9108\n",
      "Epoch 59/100\n",
      "40/40 [==============================] - 24s 589ms/step - loss: 0.0097 - acc: 0.9961 - val_loss: 0.4595 - val_acc: 0.9014\n",
      "Epoch 60/100\n",
      "40/40 [==============================] - 23s 568ms/step - loss: 0.0043 - acc: 1.0000 - val_loss: 0.4194 - val_acc: 0.9139\n",
      "Epoch 61/100\n",
      "40/40 [==============================] - 23s 587ms/step - loss: 0.0099 - acc: 0.9984 - val_loss: 0.5727 - val_acc: 0.8858\n"
     ]
    },
    {
     "name": "stdout",
     "output_type": "stream",
     "text": [
      "Epoch 62/100\n",
      "40/40 [==============================] - 23s 564ms/step - loss: 0.0105 - acc: 0.9969 - val_loss: 0.4177 - val_acc: 0.9218\n",
      "Epoch 63/100\n",
      "40/40 [==============================] - 24s 588ms/step - loss: 0.0037 - acc: 1.0000 - val_loss: 0.4259 - val_acc: 0.9108\n",
      "Epoch 64/100\n",
      "40/40 [==============================] - 23s 568ms/step - loss: 0.0018 - acc: 1.0000 - val_loss: 0.3987 - val_acc: 0.9155\n",
      "Epoch 65/100\n",
      "40/40 [==============================] - 23s 583ms/step - loss: 0.0032 - acc: 0.9984 - val_loss: 0.4526 - val_acc: 0.9077\n",
      "Epoch 66/100\n",
      "40/40 [==============================] - 23s 585ms/step - loss: 9.2193e-04 - acc: 1.0000 - val_loss: 0.3237 - val_acc: 0.9358\n",
      "Epoch 67/100\n",
      "40/40 [==============================] - 24s 604ms/step - loss: 7.1515e-04 - acc: 1.0000 - val_loss: 0.3902 - val_acc: 0.9249\n",
      "Epoch 68/100\n",
      "40/40 [==============================] - 23s 575ms/step - loss: 0.0017 - acc: 1.0000 - val_loss: 0.4224 - val_acc: 0.9092\n",
      "Epoch 69/100\n",
      "40/40 [==============================] - 23s 582ms/step - loss: 0.0014 - acc: 1.0000 - val_loss: 0.3942 - val_acc: 0.9249\n",
      "Epoch 70/100\n",
      "40/40 [==============================] - 23s 584ms/step - loss: 0.0048 - acc: 0.9992 - val_loss: 0.5081 - val_acc: 0.9092\n",
      "Epoch 71/100\n",
      "40/40 [==============================] - 23s 579ms/step - loss: 0.0015 - acc: 1.0000 - val_loss: 0.3898 - val_acc: 0.9171\n",
      "Epoch 72/100\n",
      "40/40 [==============================] - 24s 597ms/step - loss: 6.7188e-04 - acc: 1.0000 - val_loss: 0.4878 - val_acc: 0.9092\n",
      "Epoch 73/100\n",
      "40/40 [==============================] - 23s 576ms/step - loss: 9.6639e-04 - acc: 1.0000 - val_loss: 0.3978 - val_acc: 0.9233\n",
      "Epoch 74/100\n",
      "40/40 [==============================] - 24s 589ms/step - loss: 0.0080 - acc: 0.9977 - val_loss: 0.4526 - val_acc: 0.9124\n",
      "Epoch 75/100\n",
      "40/40 [==============================] - 23s 573ms/step - loss: 0.0050 - acc: 0.9984 - val_loss: 0.4425 - val_acc: 0.9061\n",
      "Epoch 76/100\n",
      "40/40 [==============================] - 23s 585ms/step - loss: 0.0352 - acc: 0.9937 - val_loss: 0.4459 - val_acc: 0.9107\n",
      "Epoch 77/100\n",
      "40/40 [==============================] - 22s 551ms/step - loss: 0.0659 - acc: 0.9852 - val_loss: 0.5450 - val_acc: 0.8936\n",
      "Epoch 78/100\n",
      "40/40 [==============================] - 22s 553ms/step - loss: 0.1402 - acc: 0.9570 - val_loss: 0.7477 - val_acc: 0.8357\n",
      "Epoch 79/100\n",
      "40/40 [==============================] - 22s 562ms/step - loss: 0.1480 - acc: 0.9523 - val_loss: 0.4262 - val_acc: 0.8842\n",
      "Epoch 80/100\n",
      "40/40 [==============================] - 22s 554ms/step - loss: 0.0559 - acc: 0.9797 - val_loss: 0.5523 - val_acc: 0.9061\n",
      "Epoch 81/100\n",
      "40/40 [==============================] - 23s 574ms/step - loss: 0.0339 - acc: 0.9883 - val_loss: 0.5003 - val_acc: 0.9030\n",
      "Epoch 82/100\n",
      "40/40 [==============================] - 23s 582ms/step - loss: 0.0369 - acc: 0.9906 - val_loss: 0.5610 - val_acc: 0.8842\n",
      "Epoch 83/100\n",
      "40/40 [==============================] - 23s 582ms/step - loss: 0.0600 - acc: 0.9844 - val_loss: 0.3312 - val_acc: 0.9186\n",
      "Epoch 84/100\n",
      "40/40 [==============================] - 23s 573ms/step - loss: 0.0542 - acc: 0.9852 - val_loss: 0.5494 - val_acc: 0.8967\n",
      "Epoch 85/100\n",
      "40/40 [==============================] - 24s 589ms/step - loss: 0.0310 - acc: 0.9852 - val_loss: 0.4510 - val_acc: 0.8998\n",
      "Epoch 86/100\n",
      "40/40 [==============================] - 23s 570ms/step - loss: 0.0208 - acc: 0.9914 - val_loss: 0.4162 - val_acc: 0.9030\n",
      "Epoch 87/100\n",
      "40/40 [==============================] - 22s 555ms/step - loss: 0.0253 - acc: 0.9898 - val_loss: 0.4020 - val_acc: 0.9124\n",
      "Epoch 88/100\n",
      "40/40 [==============================] - 23s 571ms/step - loss: 0.0188 - acc: 0.9937 - val_loss: 0.5602 - val_acc: 0.8951\n",
      "Epoch 89/100\n",
      "40/40 [==============================] - 22s 559ms/step - loss: 0.0057 - acc: 0.9977 - val_loss: 0.4552 - val_acc: 0.9061\n",
      "Epoch 90/100\n",
      "40/40 [==============================] - 23s 569ms/step - loss: 0.0055 - acc: 0.9984 - val_loss: 0.4503 - val_acc: 0.9171\n",
      "Epoch 91/100\n",
      "40/40 [==============================] - 22s 560ms/step - loss: 0.0068 - acc: 0.9977 - val_loss: 0.4762 - val_acc: 0.9045\n",
      "Epoch 92/100\n",
      "40/40 [==============================] - 23s 571ms/step - loss: 0.0037 - acc: 0.9992 - val_loss: 0.4180 - val_acc: 0.9233\n",
      "Epoch 93/100\n",
      "40/40 [==============================] - 23s 587ms/step - loss: 0.0014 - acc: 1.0000 - val_loss: 0.4561 - val_acc: 0.9077\n",
      "Epoch 94/100\n",
      "40/40 [==============================] - 23s 577ms/step - loss: 0.0047 - acc: 0.9992 - val_loss: 0.4610 - val_acc: 0.9124\n",
      "Epoch 95/100\n",
      "40/40 [==============================] - 23s 582ms/step - loss: 0.0075 - acc: 0.9977 - val_loss: 0.4818 - val_acc: 0.9013\n",
      "Epoch 96/100\n",
      "40/40 [==============================] - 22s 561ms/step - loss: 0.0059 - acc: 0.9977 - val_loss: 0.4828 - val_acc: 0.9092\n",
      "Epoch 97/100\n",
      "40/40 [==============================] - 23s 581ms/step - loss: 0.0080 - acc: 0.9992 - val_loss: 0.5876 - val_acc: 0.9092\n",
      "Epoch 98/100\n",
      "40/40 [==============================] - 23s 573ms/step - loss: 0.0053 - acc: 0.9982 - val_loss: 0.3647 - val_acc: 0.9296\n",
      "Epoch 99/100\n",
      "40/40 [==============================] - 23s 569ms/step - loss: 0.0045 - acc: 0.9984 - val_loss: 0.4982 - val_acc: 0.9249\n",
      "Epoch 100/100\n",
      "40/40 [==============================] - 23s 575ms/step - loss: 0.0068 - acc: 0.9992 - val_loss: 0.4047 - val_acc: 0.9249\n"
     ]
    },
    {
     "data": {
      "text/plain": [
       "<keras.callbacks.History at 0xf38f3e4e0>"
      ]
     },
     "execution_count": 27,
     "metadata": {},
     "output_type": "execute_result"
    }
   ],
   "source": [
    "classifier.fit_generator(training_set,\n",
    "steps_per_epoch = 40,\n",
    "epochs = 100,\n",
    "validation_data = test_set,\n",
    "validation_steps = 20)\n",
    "\n"
   ]
  },
  {
   "cell_type": "code",
   "execution_count": 15,
   "metadata": {},
   "outputs": [],
   "source": [
    "classifier.save_weights(r\"C:\\Users\\Aditya Verma\\Desktop\\Rajasthan4\\Trained\\weights.hdf5\")"
   ]
  },
  {
   "cell_type": "code",
   "execution_count": 25,
   "metadata": {},
   "outputs": [
    {
     "name": "stdout",
     "output_type": "stream",
     "text": [
      "{'biode': 0, 'nonbiode': 1}\n",
      "[[0.]]\n"
     ]
    }
   ],
   "source": [
    "# Part 3 - Making new predictions\n",
    "import numpy as np\n",
    "from keras.preprocessing import image\n",
    "test_image = image.load_img(r\"C:\\Users\\Aditya Verma\\Desktop\\Rajasthan4\\Hack36_Pyenoma-artigent-master\\Hack36_Pyenoma-artigent-master\\test\\biode\\cardboard18 (copy).jpg\", target_size = (64, 64))\n",
    "test_image.show()\n",
    "test_image = image.img_to_array(test_image)\n",
    "test_image = np.expand_dims(test_image, axis = 0)\n",
    "classifier.load_weights(r\"C:\\Users\\Aditya Verma\\Desktop\\Rajasthan4\\Trained\\weights.hdf5\",by_name=False)\n",
    "result = classifier.predict(test_image)\n",
    "print(training_set.class_indices)\n",
    "print (result)"
   ]
  },
  {
   "cell_type": "code",
   "execution_count": null,
   "metadata": {},
   "outputs": [],
   "source": []
  }
 ],
 "metadata": {
  "kernelspec": {
   "display_name": "Python 3",
   "language": "python",
   "name": "python3"
  },
  "language_info": {
   "codemirror_mode": {
    "name": "ipython",
    "version": 3
   },
   "file_extension": ".py",
   "mimetype": "text/x-python",
   "name": "python",
   "nbconvert_exporter": "python",
   "pygments_lexer": "ipython3",
   "version": "3.6.4"
  }
 },
 "nbformat": 4,
 "nbformat_minor": 2
}

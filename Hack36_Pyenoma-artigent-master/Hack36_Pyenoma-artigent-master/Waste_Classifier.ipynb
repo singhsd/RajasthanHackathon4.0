{
 "cells": [
  {
   "cell_type": "code",
   "execution_count": 1,
   "metadata": {},
   "outputs": [
    {
     "name": "stderr",
     "output_type": "stream",
     "text": [
      "Using TensorFlow backend.\n"
     ]
    }
   ],
   "source": [
    "# Importing the Keras libraries and packages\n",
    "from keras.models import Sequential\n",
    "from keras.layers import Conv2D\n",
    "from keras.layers import MaxPooling2D\n",
    "from keras.layers import Flatten\n",
    "from keras.layers import Dense, Dropout\n",
    "from keras import optimizers"
   ]
  },
  {
   "cell_type": "code",
   "execution_count": 2,
   "metadata": {
    "collapsed": true
   },
   "outputs": [],
   "source": [
    "# Initialising the CNN\n",
    "classifier = Sequential()"
   ]
  },
  {
   "cell_type": "code",
   "execution_count": 3,
   "metadata": {},
   "outputs": [],
   "source": [
    "# Step 1 - Convolution\n",
    "classifier.add(Conv2D(64, (3, 3), input_shape = (64, 64, 3), activation = 'relu'))\n",
    "#classifier.add(Dropout(rate=0.3))"
   ]
  },
  {
   "cell_type": "code",
   "execution_count": 4,
   "metadata": {
    "collapsed": true
   },
   "outputs": [],
   "source": [
    "# Step 2 - Pooling\n",
    "classifier.add(MaxPooling2D(pool_size = (2, 2)))\n",
    "# Adding a second convolutional layer\n",
    "classifier.add(Conv2D(32, (3, 3), activation = 'relu'))\n",
    "classifier.add(MaxPooling2D(pool_size = (2, 2)))"
   ]
  },
  {
   "cell_type": "code",
   "execution_count": 5,
   "metadata": {
    "collapsed": true
   },
   "outputs": [],
   "source": [
    "# Step 3 - Flattening\n",
    "classifier.add(Flatten())"
   ]
  },
  {
   "cell_type": "code",
   "execution_count": 6,
   "metadata": {},
   "outputs": [],
   "source": [
    "# Step 4 - Full connection\n",
    "classifier.add(Dense(units = 128, activation = 'relu'))\n",
    "classifier.add(Dense(units = 1, activation = 'sigmoid'))\n",
    "# Compiling the CNN \n",
    "# use sgd optimizer by varying moments\n",
    "sgd = optimizers.SGD(lr =  0.01, decay=1e-6, momentum=0.9)\n",
    "classifier.compile(optimizer = sgd, loss = 'binary_crossentropy', metrics = ['accuracy'])"
   ]
  },
  {
   "cell_type": "code",
   "execution_count": 7,
   "metadata": {
    "collapsed": true
   },
   "outputs": [],
   "source": [
    "# Part 2 - Fitting the CNN to the images\n",
    "from keras.preprocessing.image import ImageDataGenerator\n",
    "train_datagen = ImageDataGenerator(rescale = 1./255,\n",
    "shear_range = 0.2,\n",
    "zoom_range = 0.2,\n",
    "horizontal_flip = True)\n",
    "test_datagen = ImageDataGenerator(rescale = 1./255)"
   ]
  },
  {
   "cell_type": "code",
   "execution_count": 8,
   "metadata": {},
   "outputs": [
    {
     "name": "stdout",
     "output_type": "stream",
     "text": [
      "Found 1912 images belonging to 2 classes.\n"
     ]
    }
   ],
   "source": [
    "training_set = train_datagen.flow_from_directory('data/dataset-resized/dataset-resized',\n",
    "target_size = (64, 64),\n",
    "batch_size = 32,\n",
    "class_mode = 'binary')"
   ]
  },
  {
   "cell_type": "code",
   "execution_count": 9,
   "metadata": {},
   "outputs": [
    {
     "name": "stdout",
     "output_type": "stream",
     "text": [
      "Found 607 images belonging to 2 classes.\n"
     ]
    }
   ],
   "source": [
    "test_set = test_datagen.flow_from_directory('data/dataset-resized/test',\n",
    "target_size = (64, 64),\n",
    "batch_size = 32,\n",
    "class_mode = 'binary')"
   ]
  },
  {
   "cell_type": "code",
   "execution_count": 11,
   "metadata": {},
   "outputs": [
    {
     "name": "stdout",
     "output_type": "stream",
     "text": [
      "Epoch 1/100\n",
      "40/40 [==============================] - 24s 602ms/step - loss: 0.6152 - acc: 0.6758 - val_loss: 0.6178 - val_acc: 0.7105\n",
      "Epoch 2/100\n",
      "40/40 [==============================] - 25s 615ms/step - loss: 0.6141 - acc: 0.6703 - val_loss: 0.6654 - val_acc: 0.6260\n",
      "Epoch 3/100\n",
      "40/40 [==============================] - 24s 605ms/step - loss: 0.5582 - acc: 0.7096 - val_loss: 0.6487 - val_acc: 0.6495\n",
      "Epoch 4/100\n",
      "40/40 [==============================] - 21s 535ms/step - loss: 0.5480 - acc: 0.7198 - val_loss: 0.6779 - val_acc: 0.6635\n",
      "Epoch 5/100\n",
      "40/40 [==============================] - 22s 538ms/step - loss: 0.6230 - acc: 0.6649 - val_loss: 0.6170 - val_acc: 0.6651\n",
      "Epoch 6/100\n",
      "40/40 [==============================] - 21s 519ms/step - loss: 0.5649 - acc: 0.7047 - val_loss: 0.5300 - val_acc: 0.7183\n",
      "Epoch 7/100\n",
      "40/40 [==============================] - 21s 530ms/step - loss: 0.5361 - acc: 0.7401 - val_loss: 0.5909 - val_acc: 0.6917\n",
      "Epoch 8/100\n",
      "40/40 [==============================] - 21s 535ms/step - loss: 0.5326 - acc: 0.7484 - val_loss: 0.5709 - val_acc: 0.7089\n",
      "Epoch 9/100\n",
      "40/40 [==============================] - 21s 527ms/step - loss: 0.5719 - acc: 0.7104 - val_loss: 0.5762 - val_acc: 0.6839\n",
      "Epoch 10/100\n",
      "40/40 [==============================] - 21s 527ms/step - loss: 0.5588 - acc: 0.7039 - val_loss: 0.5498 - val_acc: 0.7121\n",
      "Epoch 11/100\n",
      "40/40 [==============================] - 21s 534ms/step - loss: 0.4987 - acc: 0.7589 - val_loss: 0.5861 - val_acc: 0.6995\n",
      "Epoch 12/100\n",
      "40/40 [==============================] - 22s 549ms/step - loss: 0.5471 - acc: 0.7141 - val_loss: 0.5371 - val_acc: 0.7340\n",
      "Epoch 13/100\n",
      "40/40 [==============================] - 21s 532ms/step - loss: 0.4750 - acc: 0.7729 - val_loss: 0.4703 - val_acc: 0.7715\n",
      "Epoch 14/100\n",
      "40/40 [==============================] - 21s 530ms/step - loss: 0.4676 - acc: 0.7734 - val_loss: 0.5005 - val_acc: 0.7496\n",
      "Epoch 15/100\n",
      "40/40 [==============================] - 26s 644ms/step - loss: 0.4689 - acc: 0.7828 - val_loss: 0.5351 - val_acc: 0.7230\n",
      "Epoch 16/100\n",
      "40/40 [==============================] - 21s 527ms/step - loss: 0.4819 - acc: 0.7750 - val_loss: 0.5358 - val_acc: 0.7011\n",
      "Epoch 17/100\n",
      "40/40 [==============================] - 21s 534ms/step - loss: 0.4706 - acc: 0.7700 - val_loss: 0.6849 - val_acc: 0.6698\n",
      "Epoch 18/100\n",
      "40/40 [==============================] - 26s 648ms/step - loss: 0.4907 - acc: 0.7711 - val_loss: 0.4926 - val_acc: 0.7308\n",
      "Epoch 19/100\n",
      "40/40 [==============================] - 25s 636ms/step - loss: 0.4402 - acc: 0.7781 - val_loss: 0.4861 - val_acc: 0.7884\n",
      "Epoch 20/100\n",
      "40/40 [==============================] - 26s 641ms/step - loss: 0.3987 - acc: 0.8229 - val_loss: 0.4428 - val_acc: 0.7809\n",
      "Epoch 21/100\n",
      "40/40 [==============================] - 25s 630ms/step - loss: 0.4331 - acc: 0.7930 - val_loss: 0.4662 - val_acc: 0.8091\n",
      "Epoch 22/100\n",
      "40/40 [==============================] - 26s 640ms/step - loss: 0.4043 - acc: 0.8117 - val_loss: 0.5658 - val_acc: 0.7449\n",
      "Epoch 23/100\n",
      "40/40 [==============================] - 25s 625ms/step - loss: 0.4366 - acc: 0.7935 - val_loss: 0.4863 - val_acc: 0.7746\n",
      "Epoch 24/100\n",
      "40/40 [==============================] - 25s 623ms/step - loss: 0.4626 - acc: 0.7836 - val_loss: 0.5190 - val_acc: 0.7136\n",
      "Epoch 25/100\n",
      "40/40 [==============================] - 22s 546ms/step - loss: 0.4130 - acc: 0.8211 - val_loss: 0.4649 - val_acc: 0.8216\n",
      "Epoch 26/100\n",
      "40/40 [==============================] - 21s 517ms/step - loss: 0.4384 - acc: 0.8005 - val_loss: 0.4956 - val_acc: 0.7731\n",
      "Epoch 27/100\n",
      "40/40 [==============================] - 21s 529ms/step - loss: 0.3886 - acc: 0.8195 - val_loss: 0.4462 - val_acc: 0.7637\n",
      "Epoch 28/100\n",
      "40/40 [==============================] - 21s 534ms/step - loss: 0.4079 - acc: 0.8164 - val_loss: 0.4814 - val_acc: 0.7637\n",
      "Epoch 29/100\n",
      "40/40 [==============================] - 21s 520ms/step - loss: 0.3651 - acc: 0.8286 - val_loss: 0.4445 - val_acc: 0.7856\n",
      "Epoch 30/100\n",
      "40/40 [==============================] - 21s 524ms/step - loss: 0.3911 - acc: 0.8203 - val_loss: 0.5519 - val_acc: 0.7433\n",
      "Epoch 31/100\n",
      "40/40 [==============================] - 22s 545ms/step - loss: 0.3961 - acc: 0.8250 - val_loss: 0.4408 - val_acc: 0.8216\n",
      "Epoch 32/100\n",
      "40/40 [==============================] - 21s 519ms/step - loss: 0.4462 - acc: 0.7734 - val_loss: 0.5660 - val_acc: 0.6901\n",
      "Epoch 33/100\n",
      "40/40 [==============================] - 21s 518ms/step - loss: 0.4308 - acc: 0.8018 - val_loss: 0.4498 - val_acc: 0.7872\n",
      "Epoch 34/100\n",
      "40/40 [==============================] - 21s 537ms/step - loss: 0.3762 - acc: 0.8294 - val_loss: 0.4436 - val_acc: 0.7950\n",
      "Epoch 35/100\n",
      "40/40 [==============================] - 21s 521ms/step - loss: 0.3282 - acc: 0.8570 - val_loss: 0.4321 - val_acc: 0.7746\n",
      "Epoch 36/100\n",
      "40/40 [==============================] - 21s 523ms/step - loss: 0.3270 - acc: 0.8524 - val_loss: 0.3592 - val_acc: 0.8529\n",
      "Epoch 37/100\n",
      "40/40 [==============================] - 21s 529ms/step - loss: 0.3463 - acc: 0.8469 - val_loss: 0.4494 - val_acc: 0.7934\n",
      "Epoch 38/100\n",
      "40/40 [==============================] - 21s 520ms/step - loss: 0.3587 - acc: 0.8422 - val_loss: 0.4813 - val_acc: 0.8166\n",
      "Epoch 39/100\n",
      "40/40 [==============================] - 24s 601ms/step - loss: 0.3214 - acc: 0.8562 - val_loss: 0.3816 - val_acc: 0.8279\n",
      "Epoch 40/100\n",
      "40/40 [==============================] - 25s 636ms/step - loss: 0.3607 - acc: 0.8383 - val_loss: 0.4723 - val_acc: 0.8028\n",
      "Epoch 41/100\n",
      "40/40 [==============================] - 25s 629ms/step - loss: 0.3252 - acc: 0.8570 - val_loss: 0.3869 - val_acc: 0.8232\n",
      "Epoch 42/100\n",
      "40/40 [==============================] - 25s 628ms/step - loss: 0.3210 - acc: 0.8620 - val_loss: 0.4171 - val_acc: 0.8388\n",
      "Epoch 43/100\n",
      "40/40 [==============================] - 26s 641ms/step - loss: 0.3188 - acc: 0.8633 - val_loss: 0.6514 - val_acc: 0.6995\n",
      "Epoch 44/100\n",
      "40/40 [==============================] - 26s 648ms/step - loss: 0.3298 - acc: 0.8549 - val_loss: 0.4241 - val_acc: 0.7997\n",
      "Epoch 45/100\n",
      "40/40 [==============================] - 25s 636ms/step - loss: 0.2942 - acc: 0.8820 - val_loss: 0.4848 - val_acc: 0.8059\n",
      "Epoch 46/100\n",
      "40/40 [==============================] - 23s 564ms/step - loss: 0.3333 - acc: 0.8539 - val_loss: 0.4089 - val_acc: 0.8075\n",
      "Epoch 47/100\n",
      "40/40 [==============================] - 20s 512ms/step - loss: 0.3141 - acc: 0.8661 - val_loss: 0.4048 - val_acc: 0.8435\n",
      "Epoch 48/100\n",
      "40/40 [==============================] - 22s 538ms/step - loss: 0.3029 - acc: 0.8695 - val_loss: 0.3453 - val_acc: 0.8654\n",
      "Epoch 49/100\n",
      "40/40 [==============================] - 21s 518ms/step - loss: 0.2648 - acc: 0.8836 - val_loss: 0.4306 - val_acc: 0.8388\n",
      "Epoch 50/100\n",
      "40/40 [==============================] - 21s 515ms/step - loss: 0.2706 - acc: 0.8781 - val_loss: 0.3397 - val_acc: 0.8732\n",
      "Epoch 51/100\n",
      "40/40 [==============================] - 21s 522ms/step - loss: 0.3249 - acc: 0.8641 - val_loss: 0.3378 - val_acc: 0.8654\n",
      "Epoch 52/100\n",
      "40/40 [==============================] - 21s 532ms/step - loss: 0.2424 - acc: 0.8984 - val_loss: 0.3705 - val_acc: 0.8341\n",
      "Epoch 53/100\n",
      "40/40 [==============================] - 21s 515ms/step - loss: 0.2304 - acc: 0.9031 - val_loss: 0.4344 - val_acc: 0.8169\n",
      "Epoch 54/100\n",
      "40/40 [==============================] - 21s 521ms/step - loss: 0.2685 - acc: 0.8859 - val_loss: 0.4102 - val_acc: 0.8529\n",
      "Epoch 55/100\n",
      "40/40 [==============================] - 21s 533ms/step - loss: 0.2674 - acc: 0.8813 - val_loss: 0.3777 - val_acc: 0.8419\n",
      "Epoch 56/100\n",
      "40/40 [==============================] - 21s 514ms/step - loss: 0.2175 - acc: 0.9146 - val_loss: 0.3603 - val_acc: 0.8466\n",
      "Epoch 57/100\n",
      "40/40 [==============================] - 21s 524ms/step - loss: 0.2429 - acc: 0.8932 - val_loss: 0.3241 - val_acc: 0.8605\n",
      "Epoch 58/100\n",
      "40/40 [==============================] - 22s 540ms/step - loss: 0.2027 - acc: 0.9102 - val_loss: 0.3414 - val_acc: 0.8638\n",
      "Epoch 59/100\n",
      "40/40 [==============================] - 21s 518ms/step - loss: 0.2330 - acc: 0.8969 - val_loss: 0.3158 - val_acc: 0.8623\n",
      "Epoch 60/100\n",
      "40/40 [==============================] - 22s 539ms/step - loss: 0.1758 - acc: 0.9242 - val_loss: 0.2966 - val_acc: 0.8764\n",
      "Epoch 61/100\n",
      "40/40 [==============================] - 26s 639ms/step - loss: 0.2017 - acc: 0.9094 - val_loss: 0.3234 - val_acc: 0.8482\n"
     ]
    },
    {
     "name": "stdout",
     "output_type": "stream",
     "text": [
      "Epoch 62/100\n",
      "40/40 [==============================] - 25s 623ms/step - loss: 0.2066 - acc: 0.9133 - val_loss: 0.2672 - val_acc: 0.8826\n",
      "Epoch 63/100\n",
      "40/40 [==============================] - 25s 637ms/step - loss: 0.1620 - acc: 0.9453 - val_loss: 0.4032 - val_acc: 0.8685\n",
      "Epoch 64/100\n",
      "40/40 [==============================] - 25s 632ms/step - loss: 0.1657 - acc: 0.9344 - val_loss: 0.3161 - val_acc: 0.8795\n",
      "Epoch 65/100\n",
      "40/40 [==============================] - 25s 627ms/step - loss: 0.1989 - acc: 0.9047 - val_loss: 0.3414 - val_acc: 0.8717\n",
      "Epoch 66/100\n",
      "40/40 [==============================] - 25s 633ms/step - loss: 0.1925 - acc: 0.9203 - val_loss: 0.3333 - val_acc: 0.8717\n",
      "Epoch 67/100\n",
      "40/40 [==============================] - 24s 605ms/step - loss: 0.1460 - acc: 0.9409 - val_loss: 0.2712 - val_acc: 0.8889\n",
      "Epoch 68/100\n",
      "40/40 [==============================] - 21s 516ms/step - loss: 0.1367 - acc: 0.9461 - val_loss: 0.2967 - val_acc: 0.8842\n",
      "Epoch 69/100\n",
      "40/40 [==============================] - 21s 529ms/step - loss: 0.1782 - acc: 0.9367 - val_loss: 0.3716 - val_acc: 0.8466\n",
      "Epoch 70/100\n",
      "40/40 [==============================] - 21s 521ms/step - loss: 0.1679 - acc: 0.9331 - val_loss: 0.3508 - val_acc: 0.8498\n",
      "Epoch 71/100\n",
      "40/40 [==============================] - 21s 527ms/step - loss: 0.1903 - acc: 0.9208 - val_loss: 0.3232 - val_acc: 0.8685\n",
      "Epoch 72/100\n",
      "40/40 [==============================] - 21s 528ms/step - loss: 0.1596 - acc: 0.9344 - val_loss: 0.3864 - val_acc: 0.8466\n",
      "Epoch 73/100\n",
      "40/40 [==============================] - 21s 518ms/step - loss: 0.1514 - acc: 0.9385 - val_loss: 0.3533 - val_acc: 0.8732\n",
      "Epoch 74/100\n",
      "40/40 [==============================] - 21s 518ms/step - loss: 0.1713 - acc: 0.9320 - val_loss: 0.3413 - val_acc: 0.8826\n",
      "Epoch 75/100\n",
      "40/40 [==============================] - 21s 524ms/step - loss: 0.1427 - acc: 0.9490 - val_loss: 0.3059 - val_acc: 0.8936\n",
      "Epoch 76/100\n",
      "40/40 [==============================] - 21s 519ms/step - loss: 0.1166 - acc: 0.9594 - val_loss: 0.2995 - val_acc: 0.8918\n",
      "Epoch 77/100\n",
      "40/40 [==============================] - 21s 523ms/step - loss: 0.1169 - acc: 0.9523 - val_loss: 0.2668 - val_acc: 0.9014\n",
      "Epoch 78/100\n",
      "40/40 [==============================] - 21s 526ms/step - loss: 0.0935 - acc: 0.9648 - val_loss: 0.3145 - val_acc: 0.8873\n",
      "Epoch 79/100\n",
      "40/40 [==============================] - 21s 519ms/step - loss: 0.1130 - acc: 0.9516 - val_loss: 0.3587 - val_acc: 0.8905\n",
      "Epoch 80/100\n",
      "40/40 [==============================] - 21s 519ms/step - loss: 0.1392 - acc: 0.9448 - val_loss: 0.2701 - val_acc: 0.8983\n",
      "Epoch 81/100\n",
      "40/40 [==============================] - 21s 517ms/step - loss: 0.1494 - acc: 0.9469 - val_loss: 0.3288 - val_acc: 0.8905\n",
      "Epoch 82/100\n",
      "40/40 [==============================] - 25s 627ms/step - loss: 0.1229 - acc: 0.9633 - val_loss: 0.2758 - val_acc: 0.8967\n",
      "Epoch 83/100\n",
      "40/40 [==============================] - 25s 623ms/step - loss: 0.1643 - acc: 0.9406 - val_loss: 0.3064 - val_acc: 0.8842\n",
      "Epoch 84/100\n",
      "40/40 [==============================] - 26s 638ms/step - loss: 0.1415 - acc: 0.9419 - val_loss: 0.3200 - val_acc: 0.8795\n",
      "Epoch 85/100\n",
      "40/40 [==============================] - 26s 639ms/step - loss: 0.1359 - acc: 0.9391 - val_loss: 0.6445 - val_acc: 0.7934\n",
      "Epoch 86/100\n",
      "40/40 [==============================] - 24s 611ms/step - loss: 0.1411 - acc: 0.9380 - val_loss: 0.2881 - val_acc: 0.8748\n",
      "Epoch 87/100\n",
      "40/40 [==============================] - 26s 639ms/step - loss: 0.1129 - acc: 0.9500 - val_loss: 0.4387 - val_acc: 0.8732\n",
      "Epoch 88/100\n",
      "40/40 [==============================] - 25s 616ms/step - loss: 0.1369 - acc: 0.9422 - val_loss: 0.2772 - val_acc: 0.8920\n",
      "Epoch 89/100\n",
      "40/40 [==============================] - 22s 560ms/step - loss: 0.0941 - acc: 0.9656 - val_loss: 0.3817 - val_acc: 0.8842\n",
      "Epoch 90/100\n",
      "40/40 [==============================] - 21s 514ms/step - loss: 0.1465 - acc: 0.9372 - val_loss: 0.3032 - val_acc: 0.8936\n",
      "Epoch 91/100\n",
      "40/40 [==============================] - 21s 514ms/step - loss: 0.0879 - acc: 0.9701 - val_loss: 0.2676 - val_acc: 0.8951\n",
      "Epoch 92/100\n",
      "40/40 [==============================] - 21s 518ms/step - loss: 0.0766 - acc: 0.9688 - val_loss: 0.3384 - val_acc: 0.8858\n",
      "Epoch 93/100\n",
      "40/40 [==============================] - 21s 524ms/step - loss: 0.0960 - acc: 0.9591 - val_loss: 0.3580 - val_acc: 0.8842\n",
      "Epoch 94/100\n",
      "40/40 [==============================] - 21s 516ms/step - loss: 0.0810 - acc: 0.9727 - val_loss: 0.3468 - val_acc: 0.8983\n",
      "Epoch 95/100\n",
      "40/40 [==============================] - 21s 518ms/step - loss: 0.0896 - acc: 0.9625 - val_loss: 0.2992 - val_acc: 0.8950\n",
      "Epoch 96/100\n",
      "40/40 [==============================] - 21s 537ms/step - loss: 0.0879 - acc: 0.9675 - val_loss: 0.3678 - val_acc: 0.8811\n",
      "Epoch 97/100\n",
      "40/40 [==============================] - 21s 516ms/step - loss: 0.0597 - acc: 0.9781 - val_loss: 0.3568 - val_acc: 0.8983\n",
      "Epoch 98/100\n",
      "40/40 [==============================] - 21s 525ms/step - loss: 0.0537 - acc: 0.9820 - val_loss: 0.3322 - val_acc: 0.9077\n",
      "Epoch 99/100\n",
      "40/40 [==============================] - 22s 538ms/step - loss: 0.0829 - acc: 0.9695 - val_loss: 0.3467 - val_acc: 0.8873\n",
      "Epoch 100/100\n",
      "40/40 [==============================] - 21s 517ms/step - loss: 0.0724 - acc: 0.9750 - val_loss: 0.3394 - val_acc: 0.9108\n"
     ]
    }
   ],
   "source": [
    "classifier.fit_generator(training_set,\n",
    "steps_per_epoch = 40,\n",
    "epochs = 100,\n",
    "validation_data = test_set,\n",
    "validation_steps = 20)\n",
    "\n",
    "classifier.save_weights('data/dataset-resized/weights.hdf5')"
   ]
  },
  {
   "cell_type": "code",
   "execution_count": 23,
   "metadata": {},
   "outputs": [
    {
     "name": "stdout",
     "output_type": "stream",
     "text": [
      "{'biode': 0, 'nonbiode': 1}\n",
      "[[ 1.]]\n"
     ]
    }
   ],
   "source": [
    "# Part 3 - Making new predictions\n",
    "import numpy as np\n",
    "from keras.preprocessing import image\n",
    "test_image = image.load_img('data/dataset-resized/metal195.jpg', target_size = (64, 64))\n",
    "test_image = image.img_to_array(test_image)\n",
    "test_image = np.expand_dims(test_image, axis = 0)\n",
    "classifier.load_weights('data/dataset-resized/weights.hdf5',by_name=False)\n",
    "result = classifier.predict(test_image)\n",
    "print(training_set.class_indices)\n",
    "print (result)"
   ]
  },
  {
   "cell_type": "code",
   "execution_count": null,
   "metadata": {
    "collapsed": true
   },
   "outputs": [],
   "source": []
  },
  {
   "cell_type": "code",
   "execution_count": null,
   "metadata": {
    "collapsed": true
   },
   "outputs": [],
   "source": []
  }
 ],
 "metadata": {
  "kernelspec": {
   "display_name": "Python 3",
   "language": "python",
   "name": "python3"
  },
  "language_info": {
   "codemirror_mode": {
    "name": "ipython",
    "version": 3
   },
   "file_extension": ".py",
   "mimetype": "text/x-python",
   "name": "python",
   "nbconvert_exporter": "python",
   "pygments_lexer": "ipython3",
   "version": "3.6.3"
  }
 },
 "nbformat": 4,
 "nbformat_minor": 2
}

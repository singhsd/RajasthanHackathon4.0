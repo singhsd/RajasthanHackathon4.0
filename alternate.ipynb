{
 "cells": [
  {
   "cell_type": "markdown",
   "metadata": {},
   "source": [
    "import the keras library"
   ]
  },
  {
   "cell_type": "code",
   "execution_count": 2,
   "metadata": {},
   "outputs": [
    {
     "name": "stderr",
     "output_type": "stream",
     "text": [
      "C:\\Users\\Aditya Verma\\Anaconda3\\lib\\site-packages\\h5py\\__init__.py:36: FutureWarning: Conversion of the second argument of issubdtype from `float` to `np.floating` is deprecated. In future, it will be treated as `np.float64 == np.dtype(float).type`.\n",
      "  from ._conv import register_converters as _register_converters\n",
      "Using TensorFlow backend.\n"
     ]
    }
   ],
   "source": [
    "from keras.models import Sequential\n",
    "from keras.layers import Conv2D\n",
    "from keras.layers import MaxPooling2D\n",
    "from keras.layers import Flatten\n",
    "from keras.layers import Dense, Dropout\n",
    "from keras import optimizers"
   ]
  },
  {
   "cell_type": "markdown",
   "metadata": {},
   "source": [
    "initialise the convolution neural network classifier\n"
   ]
  },
  {
   "cell_type": "code",
   "execution_count": 3,
   "metadata": {},
   "outputs": [],
   "source": [
    "classifier= Sequential()"
   ]
  },
  {
   "cell_type": "code",
   "execution_count": 4,
   "metadata": {},
   "outputs": [],
   "source": [
    "# Step 1 : Convolution\n",
    "classifier.add(Conv2D(64, (3, 3), input_shape = (64, 64, 3), activation = 'relu'))"
   ]
  },
  {
   "cell_type": "code",
   "execution_count": 5,
   "metadata": {},
   "outputs": [],
   "source": [
    "# Step 2 - Pooling\n",
    "classifier.add(MaxPooling2D(pool_size = (2, 2)))\n",
    "# Adding a second convolutional layer\n",
    "classifier.add(Conv2D(32, (3, 3), activation = 'relu'))\n",
    "classifier.add(MaxPooling2D(pool_size = (2, 2)))"
   ]
  },
  {
   "cell_type": "code",
   "execution_count": 6,
   "metadata": {},
   "outputs": [],
   "source": [
    "# Step 3 - Flattening\n",
    "classifier.add(Flatten())"
   ]
  },
  {
   "cell_type": "code",
   "execution_count": 7,
   "metadata": {},
   "outputs": [],
   "source": [
    "# Step 4 - Full connection\n",
    "classifier.add(Dense(units = 128, activation = 'relu'))\n",
    "classifier.add(Dense(units = 1, activation = 'sigmoid'))\n",
    "# Compiling the CNN \n",
    "# use sgd optimizer by varying moments\n",
    "sgd = optimizers.SGD(lr =  0.01, decay=1e-6, momentum=0.9)\n",
    "classifier.compile(optimizer = sgd, loss = 'binary_crossentropy', metrics = ['accuracy'])"
   ]
  },
  {
   "cell_type": "code",
   "execution_count": 8,
   "metadata": {},
   "outputs": [],
   "source": [
    "# Part 2 - Fitting the CNN to the images\n",
    "from keras.preprocessing.image import ImageDataGenerator\n",
    "train_datagen = ImageDataGenerator(rescale = 1./255,\n",
    "shear_range = 0.2,\n",
    "zoom_range = 0.2,\n",
    "horizontal_flip = True)\n",
    "test_datagen = ImageDataGenerator(rescale = 1./255)"
   ]
  },
  {
   "cell_type": "code",
   "execution_count": 9,
   "metadata": {},
   "outputs": [
    {
     "name": "stdout",
     "output_type": "stream",
     "text": [
      "Found 499 images belonging to 5 classes.\n"
     ]
    }
   ],
   "source": [
    "training_set = train_datagen.flow_from_directory(r\"C:\\Users\\Aditya Verma\\Desktop\\Rajasthan4\\Hack36_Pyenoma-artigent-master\\Hack36_Pyenoma-artigent-master\\train2\",\n",
    "target_size = (64, 64),\n",
    "batch_size = 32,\n",
    "class_mode = 'binary')"
   ]
  },
  {
   "cell_type": "code",
   "execution_count": 10,
   "metadata": {},
   "outputs": [
    {
     "name": "stdout",
     "output_type": "stream",
     "text": [
      "Found 607 images belonging to 5 classes.\n"
     ]
    }
   ],
   "source": [
    "test_set = test_datagen.flow_from_directory(r\"C:\\Users\\Aditya Verma\\Desktop\\Rajasthan4\\Hack36_Pyenoma-artigent-master\\Hack36_Pyenoma-artigent-master\\test2\",\n",
    "target_size = (64, 64),\n",
    "batch_size = 32,\n",
    "class_mode = 'binary')"
   ]
  },
  {
   "cell_type": "code",
   "execution_count": 11,
   "metadata": {
    "scrolled": true
   },
   "outputs": [
    {
     "name": "stdout",
     "output_type": "stream",
     "text": [
      "Epoch 1/100\n",
      "40/40 [==============================] - 28s 692ms/step - loss: -14.7849 - acc: 0.2038 - val_loss: -17.1150 - val_acc: 0.1706\n",
      "Epoch 2/100\n",
      "40/40 [==============================] - 24s 601ms/step - loss: -15.9340 - acc: 0.1996 - val_loss: -17.1649 - val_acc: 0.1784\n",
      "Epoch 3/100\n",
      "40/40 [==============================] - 25s 634ms/step - loss: -15.8885 - acc: 0.2045 - val_loss: -17.0651 - val_acc: 0.1800\n",
      "Epoch 4/100\n",
      "40/40 [==============================] - 28s 688ms/step - loss: -16.3122 - acc: 0.1936 - val_loss: -16.8405 - val_acc: 0.1674\n",
      "Epoch 5/100\n",
      "40/40 [==============================] - 24s 611ms/step - loss: -16.0504 - acc: 0.2027 - val_loss: -16.5162 - val_acc: 0.1784\n",
      "Epoch 6/100\n",
      "40/40 [==============================] - 24s 604ms/step - loss: -15.9174 - acc: 0.1981 - val_loss: -17.4892 - val_acc: 0.1659\n",
      "Epoch 7/100\n",
      "40/40 [==============================] - 24s 603ms/step - loss: -16.0297 - acc: 0.2040 - val_loss: -16.6909 - val_acc: 0.1847\n",
      "Epoch 8/100\n",
      "40/40 [==============================] - 24s 602ms/step - loss: -16.0795 - acc: 0.1957 - val_loss: -18.2876 - val_acc: 0.1565\n",
      "Epoch 9/100\n",
      "40/40 [==============================] - 23s 587ms/step - loss: -16.3745 - acc: 0.2022 - val_loss: -16.3416 - val_acc: 0.1753\n",
      "Epoch 10/100\n",
      "40/40 [==============================] - 24s 611ms/step - loss: -15.6682 - acc: 0.1996 - val_loss: -17.3146 - val_acc: 0.1706\n",
      "Epoch 11/100\n",
      "40/40 [==============================] - 24s 598ms/step - loss: -15.2030 - acc: 0.2022 - val_loss: -17.6389 - val_acc: 0.1612\n",
      "Epoch 12/100\n",
      "40/40 [==============================] - 26s 645ms/step - loss: -16.8398 - acc: 0.1975 - val_loss: -17.0401 - val_acc: 0.1878\n",
      "Epoch 13/100\n",
      "40/40 [==============================] - 25s 618ms/step - loss: -15.9300 - acc: 0.2032 - val_loss: -16.6909 - val_acc: 0.1753\n",
      "Epoch 14/100\n",
      "40/40 [==============================] - 25s 637ms/step - loss: -16.0462 - acc: 0.1934 - val_loss: -17.2397 - val_acc: 0.1549\n",
      "Epoch 15/100\n",
      "40/40 [==============================] - 24s 609ms/step - loss: -16.3205 - acc: 0.1985 - val_loss: -17.3146 - val_acc: 0.1800\n",
      "Epoch 16/100\n",
      "40/40 [==============================] - 26s 641ms/step - loss: -15.8635 - acc: 0.1975 - val_loss: -16.9154 - val_acc: 0.1862\n",
      "Epoch 17/100\n",
      "40/40 [==============================] - 25s 621ms/step - loss: -16.3245 - acc: 0.2019 - val_loss: -16.7657 - val_acc: 0.1690\n",
      "Epoch 18/100\n",
      "40/40 [==============================] - 25s 616ms/step - loss: -15.5019 - acc: 0.1994 - val_loss: -17.2397 - val_acc: 0.1721\n",
      "Epoch 19/100\n",
      "40/40 [==============================] - 26s 639ms/step - loss: -15.9007 - acc: 0.2011 - val_loss: -17.1918 - val_acc: 0.1724\n",
      "Epoch 20/100\n",
      "40/40 [==============================] - 24s 602ms/step - loss: -15.8010 - acc: 0.2028 - val_loss: -17.0900 - val_acc: 0.1753\n",
      "Epoch 21/100\n",
      "40/40 [==============================] - 25s 627ms/step - loss: -16.3164 - acc: 0.2033 - val_loss: -16.9653 - val_acc: 0.1721\n",
      "Epoch 22/100\n",
      "40/40 [==============================] - 28s 705ms/step - loss: -15.8759 - acc: 0.1965 - val_loss: -16.8904 - val_acc: 0.1690\n",
      "Epoch 23/100\n",
      "40/40 [==============================] - 27s 682ms/step - loss: -15.7845 - acc: 0.2072 - val_loss: -17.2896 - val_acc: 0.1800\n",
      "Epoch 24/100\n",
      "40/40 [==============================] - 25s 624ms/step - loss: -16.4077 - acc: 0.1931 - val_loss: -17.5890 - val_acc: 0.1674\n",
      "Epoch 25/100\n",
      "40/40 [==============================] - 23s 583ms/step - loss: -15.7844 - acc: 0.2017 - val_loss: -16.7408 - val_acc: 0.1784\n",
      "Epoch 26/100\n",
      "40/40 [==============================] - 25s 613ms/step - loss: -16.1585 - acc: 0.2006 - val_loss: -16.7657 - val_acc: 0.1674\n",
      "Epoch 27/100\n",
      "40/40 [==============================] - 23s 584ms/step - loss: -16.2748 - acc: 0.1939 - val_loss: -17.8635 - val_acc: 0.1643\n",
      "Epoch 28/100\n",
      "40/40 [==============================] - 24s 612ms/step - loss: -15.7098 - acc: 0.2084 - val_loss: -16.4164 - val_acc: 0.1831\n",
      "Epoch 29/100\n",
      "40/40 [==============================] - 24s 588ms/step - loss: -15.9756 - acc: 0.1978 - val_loss: -17.2397 - val_acc: 0.1815\n",
      "Epoch 30/100\n",
      "40/40 [==============================] - 25s 617ms/step - loss: -16.0173 - acc: 0.2040 - val_loss: -16.9902 - val_acc: 0.1690\n",
      "Epoch 31/100\n",
      "40/40 [==============================] - 24s 599ms/step - loss: -16.1128 - acc: 0.2009 - val_loss: -16.7408 - val_acc: 0.1721\n",
      "Epoch 32/100\n",
      "40/40 [==============================] - 25s 614ms/step - loss: -15.8883 - acc: 0.2014 - val_loss: -17.4393 - val_acc: 0.1549\n",
      "Epoch 33/100\n",
      "40/40 [==============================] - 24s 590ms/step - loss: -16.3786 - acc: 0.1968 - val_loss: -17.9383 - val_acc: 0.1800\n",
      "Epoch 34/100\n",
      "40/40 [==============================] - 25s 614ms/step - loss: -15.6724 - acc: 0.2040 - val_loss: -16.1919 - val_acc: 0.1800\n",
      "Epoch 35/100\n",
      "40/40 [==============================] - 24s 589ms/step - loss: -15.9423 - acc: 0.2019 - val_loss: -17.1649 - val_acc: 0.1831\n",
      "Epoch 36/100\n",
      "40/40 [==============================] - 24s 607ms/step - loss: -16.0920 - acc: 0.1973 - val_loss: -17.5890 - val_acc: 0.1628\n",
      "Epoch 37/100\n",
      "40/40 [==============================] - 24s 598ms/step - loss: -16.0753 - acc: 0.2004 - val_loss: -16.7657 - val_acc: 0.1721\n",
      "Epoch 38/100\n",
      "40/40 [==============================] - 25s 619ms/step - loss: -15.7844 - acc: 0.2020 - val_loss: -17.1918 - val_acc: 0.1740\n",
      "Epoch 39/100\n",
      "40/40 [==============================] - 24s 605ms/step - loss: -16.0005 - acc: 0.1996 - val_loss: -16.8655 - val_acc: 0.1706\n",
      "Epoch 40/100\n",
      "40/40 [==============================] - 25s 615ms/step - loss: -15.8177 - acc: 0.2017 - val_loss: -17.2896 - val_acc: 0.1721\n",
      "Epoch 41/100\n",
      "40/40 [==============================] - 24s 588ms/step - loss: -15.9009 - acc: 0.2084 - val_loss: -17.1649 - val_acc: 0.1784\n",
      "Epoch 42/100\n",
      "40/40 [==============================] - 25s 623ms/step - loss: -16.2499 - acc: 0.1897 - val_loss: -17.3395 - val_acc: 0.1690\n",
      "Epoch 43/100\n",
      "40/40 [==============================] - 24s 596ms/step - loss: -15.8219 - acc: 0.2061 - val_loss: -17.1898 - val_acc: 0.1815\n",
      "Epoch 44/100\n",
      "40/40 [==============================] - 25s 623ms/step - loss: -16.1709 - acc: 0.1942 - val_loss: -17.1399 - val_acc: 0.1549\n",
      "Epoch 45/100\n",
      "40/40 [==============================] - 24s 610ms/step - loss: -16.3038 - acc: 0.1970 - val_loss: -17.0651 - val_acc: 0.1862\n",
      "Epoch 46/100\n",
      "40/40 [==============================] - 24s 612ms/step - loss: -15.7222 - acc: 0.2022 - val_loss: -16.7907 - val_acc: 0.1674\n",
      "Epoch 47/100\n",
      "40/40 [==============================] - 25s 618ms/step - loss: -15.9881 - acc: 0.1959 - val_loss: -17.7886 - val_acc: 0.1612\n",
      "Epoch 48/100\n",
      "40/40 [==============================] - 24s 603ms/step - loss: -16.1959 - acc: 0.2048 - val_loss: -16.5661 - val_acc: 0.1815\n",
      "Epoch 49/100\n",
      "40/40 [==============================] - 24s 604ms/step - loss: -16.3496 - acc: 0.1975 - val_loss: -16.9653 - val_acc: 0.1768\n",
      "Epoch 50/100\n",
      "40/40 [==============================] - 24s 595ms/step - loss: -15.6848 - acc: 0.2022 - val_loss: -16.4913 - val_acc: 0.1894\n",
      "Epoch 51/100\n",
      "40/40 [==============================] - 24s 601ms/step - loss: -16.1917 - acc: 0.1946 - val_loss: -18.0381 - val_acc: 0.1612\n",
      "Epoch 52/100\n",
      "40/40 [==============================] - 24s 599ms/step - loss: -16.0256 - acc: 0.2082 - val_loss: -16.2168 - val_acc: 0.1815\n",
      "Epoch 53/100\n",
      "40/40 [==============================] - 27s 673ms/step - loss: -15.9507 - acc: 0.2030 - val_loss: -17.5641 - val_acc: 0.1581\n",
      "Epoch 54/100\n",
      "40/40 [==============================] - 25s 622ms/step - loss: -16.1169 - acc: 0.1967 - val_loss: -16.7408 - val_acc: 0.1800\n",
      "Epoch 55/100\n",
      "40/40 [==============================] - 27s 672ms/step - loss: -15.9259 - acc: 0.2051 - val_loss: -17.3894 - val_acc: 0.1690\n",
      "Epoch 56/100\n",
      "40/40 [==============================] - 28s 708ms/step - loss: -16.4743 - acc: 0.1921 - val_loss: -17.4393 - val_acc: 0.1674\n",
      "Epoch 57/100\n",
      "40/40 [==============================] - 28s 694ms/step - loss: -16.0504 - acc: 0.1991 - val_loss: -16.8170 - val_acc: 0.1803\n",
      "Epoch 58/100\n",
      "40/40 [==============================] - 28s 711ms/step - loss: -15.9923 - acc: 0.1965 - val_loss: -17.2148 - val_acc: 0.1706\n",
      "Epoch 59/100\n",
      "40/40 [==============================] - 30s 743ms/step - loss: -16.2956 - acc: 0.2030 - val_loss: -16.9154 - val_acc: 0.1706\n",
      "Epoch 60/100\n"
     ]
    },
    {
     "name": "stdout",
     "output_type": "stream",
     "text": [
      "40/40 [==============================] - 30s 749ms/step - loss: -15.9133 - acc: 0.1983 - val_loss: -16.8156 - val_acc: 0.1815\n",
      "Epoch 61/100\n",
      "40/40 [==============================] - 30s 747ms/step - loss: -16.0961 - acc: 0.2009 - val_loss: -17.7886 - val_acc: 0.1596\n",
      "Epoch 62/100\n",
      "40/40 [==============================] - 29s 719ms/step - loss: -15.8552 - acc: 0.2030 - val_loss: -16.4414 - val_acc: 0.1831\n",
      "Epoch 63/100\n",
      "40/40 [==============================] - 28s 692ms/step - loss: -16.0172 - acc: 0.2030 - val_loss: -17.4144 - val_acc: 0.1737\n",
      "Epoch 64/100\n",
      "40/40 [==============================] - 28s 696ms/step - loss: -16.0837 - acc: 0.2020 - val_loss: -17.5391 - val_acc: 0.1706\n",
      "Epoch 65/100\n",
      "40/40 [==============================] - 28s 691ms/step - loss: -16.0878 - acc: 0.2014 - val_loss: -16.7158 - val_acc: 0.1721\n",
      "Epoch 66/100\n",
      "40/40 [==============================] - 28s 700ms/step - loss: -15.8884 - acc: 0.1989 - val_loss: -16.6909 - val_acc: 0.1737\n",
      "Epoch 67/100\n",
      "40/40 [==============================] - 28s 708ms/step - loss: -15.6640 - acc: 0.2064 - val_loss: -17.4892 - val_acc: 0.1768\n",
      "Epoch 68/100\n",
      "40/40 [==============================] - 28s 710ms/step - loss: -16.2704 - acc: 0.1933 - val_loss: -16.8405 - val_acc: 0.1753\n",
      "Epoch 69/100\n",
      "40/40 [==============================] - 28s 707ms/step - loss: -16.0214 - acc: 0.2077 - val_loss: -16.9403 - val_acc: 0.1612\n",
      "Epoch 70/100\n",
      "40/40 [==============================] - 28s 702ms/step - loss: -16.2042 - acc: 0.1889 - val_loss: -16.6160 - val_acc: 0.1941\n",
      "Epoch 71/100\n",
      "40/40 [==============================] - 28s 690ms/step - loss: -15.7388 - acc: 0.2040 - val_loss: -17.7886 - val_acc: 0.1471\n",
      "Epoch 72/100\n",
      "40/40 [==============================] - 28s 698ms/step - loss: -16.2624 - acc: 0.1968 - val_loss: -16.5412 - val_acc: 0.1878\n",
      "Epoch 73/100\n",
      "40/40 [==============================] - 28s 690ms/step - loss: -15.9674 - acc: 0.1996 - val_loss: -17.7637 - val_acc: 0.1643\n",
      "Epoch 74/100\n",
      "40/40 [==============================] - 29s 720ms/step - loss: -16.1169 - acc: 0.2017 - val_loss: -17.0900 - val_acc: 0.1768\n",
      "Epoch 75/100\n",
      "40/40 [==============================] - 29s 713ms/step - loss: -16.1958 - acc: 0.1991 - val_loss: -16.9902 - val_acc: 0.1800\n",
      "Epoch 76/100\n",
      "40/40 [==============================] - 28s 703ms/step - loss: -15.8468 - acc: 0.2017 - val_loss: -17.2668 - val_acc: 0.1677\n",
      "Epoch 77/100\n",
      "40/40 [==============================] - 28s 693ms/step - loss: -15.9714 - acc: 0.1989 - val_loss: -16.8655 - val_acc: 0.1768\n",
      "Epoch 78/100\n",
      "40/40 [==============================] - 27s 685ms/step - loss: -15.9216 - acc: 0.2019 - val_loss: -17.0651 - val_acc: 0.1690\n",
      "Epoch 79/100\n",
      "40/40 [==============================] - 27s 678ms/step - loss: -15.9175 - acc: 0.2059 - val_loss: -17.5142 - val_acc: 0.1721\n",
      "Epoch 80/100\n",
      "40/40 [==============================] - 28s 695ms/step - loss: -16.2499 - acc: 0.1928 - val_loss: -16.9653 - val_acc: 0.1784\n",
      "Epoch 81/100\n",
      "40/40 [==============================] - 28s 689ms/step - loss: -15.9715 - acc: 0.2009 - val_loss: -16.5412 - val_acc: 0.1753\n",
      "Epoch 82/100\n",
      "40/40 [==============================] - 27s 680ms/step - loss: -15.9548 - acc: 0.1989 - val_loss: -17.5890 - val_acc: 0.1581\n",
      "Epoch 83/100\n",
      "40/40 [==============================] - 28s 692ms/step - loss: -16.1875 - acc: 0.1954 - val_loss: -16.8655 - val_acc: 0.1862\n",
      "Epoch 84/100\n",
      "40/40 [==============================] - 28s 702ms/step - loss: -15.8468 - acc: 0.2043 - val_loss: -17.4144 - val_acc: 0.1518\n",
      "Epoch 85/100\n",
      "40/40 [==============================] - 28s 689ms/step - loss: -16.0047 - acc: 0.1970 - val_loss: -17.1399 - val_acc: 0.1925\n",
      "Epoch 86/100\n",
      "40/40 [==============================] - 27s 682ms/step - loss: -16.0795 - acc: 0.2048 - val_loss: -17.4643 - val_acc: 0.1753\n",
      "Epoch 87/100\n",
      "40/40 [==============================] - 28s 710ms/step - loss: -16.3661 - acc: 0.2009 - val_loss: -16.3915 - val_acc: 0.1659\n",
      "Epoch 88/100\n",
      "40/40 [==============================] - 29s 719ms/step - loss: -15.5684 - acc: 0.1994 - val_loss: -16.9902 - val_acc: 0.1737\n",
      "Epoch 89/100\n",
      "40/40 [==============================] - 29s 718ms/step - loss: -15.7680 - acc: 0.2082 - val_loss: -16.8904 - val_acc: 0.1737\n",
      "Epoch 90/100\n",
      "40/40 [==============================] - 28s 709ms/step - loss: -16.2914 - acc: 0.1942 - val_loss: -17.4643 - val_acc: 0.1690\n",
      "Epoch 91/100\n",
      "40/40 [==============================] - 28s 705ms/step - loss: -16.3371 - acc: 0.1986 - val_loss: -17.0900 - val_acc: 0.1815\n",
      "Epoch 92/100\n",
      "40/40 [==============================] - 29s 732ms/step - loss: -15.7139 - acc: 0.2001 - val_loss: -16.6909 - val_acc: 0.1737\n",
      "Epoch 93/100\n",
      "40/40 [==============================] - 29s 723ms/step - loss: -15.9299 - acc: 0.2069 - val_loss: -17.6888 - val_acc: 0.1643\n",
      "Epoch 94/100\n",
      "40/40 [==============================] - 29s 717ms/step - loss: -15.9465 - acc: 0.1991 - val_loss: -16.7408 - val_acc: 0.1800\n",
      "Epoch 95/100\n",
      "40/40 [==============================] - 28s 701ms/step - loss: -16.2333 - acc: 0.1991 - val_loss: -17.4916 - val_acc: 0.1693\n",
      "Epoch 96/100\n",
      "40/40 [==============================] - 28s 712ms/step - loss: -16.0172 - acc: 0.1991 - val_loss: -16.9154 - val_acc: 0.1784\n",
      "Epoch 97/100\n",
      "40/40 [==============================] - 28s 701ms/step - loss: -16.1002 - acc: 0.2011 - val_loss: -17.6888 - val_acc: 0.1628\n",
      "Epoch 98/100\n",
      "40/40 [==============================] - 26s 644ms/step - loss: -15.6514 - acc: 0.2033 - val_loss: -16.8405 - val_acc: 0.1706\n",
      "Epoch 99/100\n",
      "40/40 [==============================] - 24s 594ms/step - loss: -15.6143 - acc: 0.2040 - val_loss: -17.1150 - val_acc: 0.1753\n",
      "Epoch 100/100\n",
      "40/40 [==============================] - 27s 677ms/step - loss: -16.7278 - acc: 0.1936 - val_loss: -16.8655 - val_acc: 0.1831\n"
     ]
    },
    {
     "data": {
      "text/plain": [
       "<keras.callbacks.History at 0xc311643198>"
      ]
     },
     "execution_count": 11,
     "metadata": {},
     "output_type": "execute_result"
    }
   ],
   "source": [
    "classifier.fit_generator(training_set,\n",
    "steps_per_epoch = 40,\n",
    "epochs = 100,\n",
    "validation_data = test_set,\n",
    "validation_steps = 20)\n",
    "\n"
   ]
  },
  {
   "cell_type": "code",
   "execution_count": 15,
   "metadata": {},
   "outputs": [],
   "source": [
    "classifier.save_weights(r\"C:\\Users\\Aditya Verma\\Desktop\\Rajasthan4\\Trained\\weights.hdf5\")"
   ]
  },
  {
   "cell_type": "code",
   "execution_count": 25,
   "metadata": {},
   "outputs": [
    {
     "name": "stdout",
     "output_type": "stream",
     "text": [
      "{'biode': 0, 'nonbiode': 1}\n",
      "[[0.]]\n"
     ]
    }
   ],
   "source": [
    "# Part 3 - Making new predictions\n",
    "import numpy as np\n",
    "from keras.preprocessing import image\n",
    "test_image = image.load_img(r\"C:\\Users\\Aditya Verma\\Desktop\\Rajasthan4\\Hack36_Pyenoma-artigent-master\\Hack36_Pyenoma-artigent-master\\test\\biode\\cardboard18 (copy).jpg\", target_size = (64, 64))\n",
    "test_image.show()\n",
    "test_image = image.img_to_array(test_image)\n",
    "test_image = np.expand_dims(test_image, axis = 0)\n",
    "classifier.load_weights(r\"C:\\Users\\Aditya Verma\\Desktop\\Rajasthan4\\Trained\\weights.hdf5\",by_name=False)\n",
    "result = classifier.predict(test_image)\n",
    "print(training_set.class_indices)\n",
    "print (result)"
   ]
  },
  {
   "cell_type": "code",
   "execution_count": null,
   "metadata": {},
   "outputs": [],
   "source": []
  }
 ],
 "metadata": {
  "kernelspec": {
   "display_name": "Python 3",
   "language": "python",
   "name": "python3"
  },
  "language_info": {
   "codemirror_mode": {
    "name": "ipython",
    "version": 3
   },
   "file_extension": ".py",
   "mimetype": "text/x-python",
   "name": "python",
   "nbconvert_exporter": "python",
   "pygments_lexer": "ipython3",
   "version": "3.6.4"
  }
 },
 "nbformat": 4,
 "nbformat_minor": 2
}

{
 "cells": [
  {
   "cell_type": "markdown",
   "metadata": {},
   "source": [
    "import the keras library"
   ]
  },
  {
   "cell_type": "code",
   "execution_count": 2,
   "metadata": {},
   "outputs": [
    {
     "name": "stderr",
     "output_type": "stream",
     "text": [
      "C:\\Users\\Aditya Verma\\Anaconda3\\lib\\site-packages\\h5py\\__init__.py:36: FutureWarning: Conversion of the second argument of issubdtype from `float` to `np.floating` is deprecated. In future, it will be treated as `np.float64 == np.dtype(float).type`.\n",
      "  from ._conv import register_converters as _register_converters\n",
      "Using TensorFlow backend.\n"
     ]
    }
   ],
   "source": [
    "from keras.models import Sequential\n",
    "from keras.layers import Conv2D\n",
    "from keras.layers import MaxPooling2D\n",
    "from keras.layers import Flatten\n",
    "from keras.layers import Dense, Dropout\n",
    "from keras import optimizers"
   ]
  },
  {
   "cell_type": "markdown",
   "metadata": {},
   "source": [
    "initialise the convolution neural network classifier\n"
   ]
  },
  {
   "cell_type": "code",
   "execution_count": 3,
   "metadata": {},
   "outputs": [],
   "source": [
    "classifier= Sequential()"
   ]
  },
  {
   "cell_type": "code",
   "execution_count": 4,
   "metadata": {},
   "outputs": [],
   "source": [
    "# Step 1 : Convolution\n",
    "classifier.add(Conv2D(64, (3, 3), input_shape = (64, 64, 3), activation = 'relu'))"
   ]
  },
  {
   "cell_type": "code",
   "execution_count": 5,
   "metadata": {},
   "outputs": [],
   "source": [
    "# Step 2 - Pooling\n",
    "classifier.add(MaxPooling2D(pool_size = (2, 2)))\n",
    "# Adding a second convolutional layer\n",
    "classifier.add(Conv2D(32, (3, 3), activation = 'relu'))\n",
    "classifier.add(MaxPooling2D(pool_size = (2, 2)))"
   ]
  },
  {
   "cell_type": "code",
   "execution_count": 6,
   "metadata": {},
   "outputs": [],
   "source": [
    "# Step 3 - Flattening\n",
    "classifier.add(Flatten())"
   ]
  },
  {
   "cell_type": "code",
   "execution_count": 7,
   "metadata": {},
   "outputs": [],
   "source": [
    "# Step 4 - Full connection\n",
    "classifier.add(Dense(units = 128, activation = 'relu'))\n",
    "classifier.add(Dense(units = 1, activation = 'sigmoid'))\n",
    "# Compiling the CNN \n",
    "# use sgd optimizer by varying moments\n",
    "sgd = optimizers.SGD(lr =  0.01, decay=1e-6, momentum=0.9)\n",
    "classifier.compile(optimizer = sgd, loss = 'binary_crossentropy', metrics = ['accuracy'])"
   ]
  },
  {
   "cell_type": "code",
   "execution_count": 8,
   "metadata": {},
   "outputs": [],
   "source": [
    "# Part 2 - Fitting the CNN to the images\n",
    "from keras.preprocessing.image import ImageDataGenerator\n",
    "train_datagen = ImageDataGenerator(rescale = 1./255,\n",
    "shear_range = 0.2,\n",
    "zoom_range = 0.2,\n",
    "horizontal_flip = True)\n",
    "test_datagen = ImageDataGenerator(rescale = 1./255)"
   ]
  },
  {
   "cell_type": "code",
   "execution_count": 9,
   "metadata": {},
   "outputs": [
    {
     "name": "stdout",
     "output_type": "stream",
     "text": [
      "Found 499 images belonging to 5 classes.\n"
     ]
    }
   ],
   "source": [
    "training_set = train_datagen.flow_from_directory(r\"C:\\Users\\Aditya Verma\\Desktop\\Rajasthan4\\Hack36_Pyenoma-artigent-master\\Hack36_Pyenoma-artigent-master\\train2\",\n",
    "target_size = (64, 64),\n",
    "batch_size = 32,\n",
    "class_mode = 'binary')"
   ]
  },
  {
   "cell_type": "code",
   "execution_count": 13,
   "metadata": {},
   "outputs": [
    {
     "name": "stdout",
     "output_type": "stream",
     "text": [
      "Found 607 images belonging to 2 classes.\n"
     ]
    }
   ],
   "source": [
    "test_set = test_datagen.flow_from_directory(r\"C:\\Users\\Aditya Verma\\Desktop\\Rajasthan4\\Hack36_Pyenoma-artigent-master\\Hack36_Pyenoma-artigent-master\\test\",\n",
    "target_size = (64, 64),\n",
    "batch_size = 32,\n",
    "class_mode = 'binary')"
   ]
  },
  {
   "cell_type": "code",
   "execution_count": 14,
   "metadata": {
    "scrolled": true
   },
   "outputs": [
    {
     "name": "stdout",
     "output_type": "stream",
     "text": [
      "Epoch 1/100\n",
      "40/40 [==============================] - 37s 927ms/step - loss: 0.6879 - acc: 0.5570 - val_loss: 0.6797 - val_acc: 0.5227\n",
      "Epoch 2/100\n",
      "40/40 [==============================] - 25s 636ms/step - loss: 0.6665 - acc: 0.6081 - val_loss: 0.6760 - val_acc: 0.5196\n",
      "Epoch 3/100\n",
      "40/40 [==============================] - 26s 642ms/step - loss: 0.6487 - acc: 0.6112 - val_loss: 0.6250 - val_acc: 0.6338\n",
      "Epoch 4/100\n",
      "40/40 [==============================] - 26s 638ms/step - loss: 0.6431 - acc: 0.6313 - val_loss: 0.6428 - val_acc: 0.6792\n",
      "Epoch 5/100\n",
      "40/40 [==============================] - 25s 619ms/step - loss: 0.6154 - acc: 0.6714 - val_loss: 0.6020 - val_acc: 0.6792\n",
      "Epoch 6/100\n",
      "40/40 [==============================] - 25s 625ms/step - loss: 0.5938 - acc: 0.6943 - val_loss: 0.5920 - val_acc: 0.6761\n",
      "Epoch 7/100\n",
      "40/40 [==============================] - 24s 599ms/step - loss: 0.5794 - acc: 0.7109 - val_loss: 0.5287 - val_acc: 0.7480\n",
      "Epoch 8/100\n",
      "40/40 [==============================] - 25s 625ms/step - loss: 0.5776 - acc: 0.6945 - val_loss: 0.6363 - val_acc: 0.6416\n",
      "Epoch 9/100\n",
      "40/40 [==============================] - 25s 615ms/step - loss: 0.5647 - acc: 0.7177 - val_loss: 0.5879 - val_acc: 0.7136\n",
      "Epoch 10/100\n",
      "40/40 [==============================] - 25s 617ms/step - loss: 0.5365 - acc: 0.7289 - val_loss: 0.5384 - val_acc: 0.7355\n",
      "Epoch 11/100\n",
      "40/40 [==============================] - 24s 599ms/step - loss: 0.5076 - acc: 0.7609 - val_loss: 0.5733 - val_acc: 0.7246\n",
      "Epoch 12/100\n",
      "40/40 [==============================] - 25s 614ms/step - loss: 0.5824 - acc: 0.6940 - val_loss: 0.5771 - val_acc: 0.6948\n",
      "Epoch 13/100\n",
      "40/40 [==============================] - 28s 688ms/step - loss: 0.5958 - acc: 0.6742 - val_loss: 0.5502 - val_acc: 0.7355\n",
      "Epoch 14/100\n",
      "40/40 [==============================] - 23s 581ms/step - loss: 0.5006 - acc: 0.7508 - val_loss: 0.5648 - val_acc: 0.7324\n",
      "Epoch 15/100\n",
      "40/40 [==============================] - 24s 589ms/step - loss: 0.5176 - acc: 0.7383 - val_loss: 0.5818 - val_acc: 0.6995\n",
      "Epoch 16/100\n",
      "40/40 [==============================] - 24s 609ms/step - loss: 0.4999 - acc: 0.7586 - val_loss: 0.5050 - val_acc: 0.7559\n",
      "Epoch 17/100\n",
      "40/40 [==============================] - 24s 593ms/step - loss: 0.4923 - acc: 0.7500 - val_loss: 0.5088 - val_acc: 0.7449\n",
      "Epoch 18/100\n",
      "40/40 [==============================] - 24s 597ms/step - loss: 0.4959 - acc: 0.7523 - val_loss: 0.5229 - val_acc: 0.7559\n",
      "Epoch 19/100\n",
      "40/40 [==============================] - 24s 593ms/step - loss: 0.4825 - acc: 0.7758 - val_loss: 0.5274 - val_acc: 0.7398\n",
      "Epoch 20/100\n",
      "40/40 [==============================] - 23s 587ms/step - loss: 0.4498 - acc: 0.7792 - val_loss: 0.4732 - val_acc: 0.7840\n",
      "Epoch 21/100\n",
      "40/40 [==============================] - 23s 575ms/step - loss: 0.5205 - acc: 0.7461 - val_loss: 0.5167 - val_acc: 0.7418\n",
      "Epoch 22/100\n",
      "40/40 [==============================] - 24s 597ms/step - loss: 0.4540 - acc: 0.7883 - val_loss: 0.4784 - val_acc: 0.7981\n",
      "Epoch 23/100\n",
      "40/40 [==============================] - 24s 603ms/step - loss: 0.4565 - acc: 0.7734 - val_loss: 0.5135 - val_acc: 0.7261\n",
      "Epoch 24/100\n",
      "40/40 [==============================] - 25s 636ms/step - loss: 0.4401 - acc: 0.7930 - val_loss: 0.4735 - val_acc: 0.7793\n",
      "Epoch 25/100\n",
      "40/40 [==============================] - 24s 611ms/step - loss: 0.4586 - acc: 0.7870 - val_loss: 0.5110 - val_acc: 0.7715\n",
      "Epoch 26/100\n",
      "40/40 [==============================] - 26s 645ms/step - loss: 0.4297 - acc: 0.8016 - val_loss: 0.4231 - val_acc: 0.7950\n",
      "Epoch 27/100\n",
      "40/40 [==============================] - 27s 670ms/step - loss: 0.4295 - acc: 0.7984 - val_loss: 0.4922 - val_acc: 0.7872\n",
      "Epoch 28/100\n",
      "40/40 [==============================] - 24s 594ms/step - loss: 0.4090 - acc: 0.8143 - val_loss: 0.4576 - val_acc: 0.7527\n",
      "Epoch 29/100\n",
      "40/40 [==============================] - 25s 622ms/step - loss: 0.4498 - acc: 0.7844 - val_loss: 0.4819 - val_acc: 0.7668\n",
      "Epoch 30/100\n",
      "40/40 [==============================] - 24s 596ms/step - loss: 0.4323 - acc: 0.7969 - val_loss: 0.4319 - val_acc: 0.7997\n",
      "Epoch 31/100\n",
      "40/40 [==============================] - 24s 608ms/step - loss: 0.4389 - acc: 0.7953 - val_loss: 0.4705 - val_acc: 0.7950\n",
      "Epoch 32/100\n",
      "40/40 [==============================] - 23s 587ms/step - loss: 0.4223 - acc: 0.8141 - val_loss: 0.4874 - val_acc: 0.7731\n",
      "Epoch 33/100\n",
      "40/40 [==============================] - 24s 610ms/step - loss: 0.4244 - acc: 0.8117 - val_loss: 0.4534 - val_acc: 0.7793\n",
      "Epoch 34/100\n",
      "40/40 [==============================] - 24s 600ms/step - loss: 0.4013 - acc: 0.8219 - val_loss: 0.4490 - val_acc: 0.8153\n",
      "Epoch 35/100\n",
      "40/40 [==============================] - 25s 620ms/step - loss: 0.3589 - acc: 0.8318 - val_loss: 0.4821 - val_acc: 0.7825\n",
      "Epoch 36/100\n",
      "40/40 [==============================] - 24s 591ms/step - loss: 0.3893 - acc: 0.8359 - val_loss: 0.4808 - val_acc: 0.7621\n",
      "Epoch 37/100\n",
      "40/40 [==============================] - 24s 610ms/step - loss: 0.4092 - acc: 0.8224 - val_loss: 0.4559 - val_acc: 0.7887\n",
      "Epoch 38/100\n",
      "40/40 [==============================] - 24s 594ms/step - loss: 0.3426 - acc: 0.8312 - val_loss: 0.5653 - val_acc: 0.7524\n",
      "Epoch 39/100\n",
      "40/40 [==============================] - 24s 602ms/step - loss: 0.3660 - acc: 0.8315 - val_loss: 0.4714 - val_acc: 0.7903\n",
      "Epoch 40/100\n",
      "40/40 [==============================] - 24s 590ms/step - loss: 0.3454 - acc: 0.8620 - val_loss: 0.4381 - val_acc: 0.8122\n",
      "Epoch 41/100\n",
      "40/40 [==============================] - 24s 611ms/step - loss: 0.3276 - acc: 0.8612 - val_loss: 0.3363 - val_acc: 0.8654\n",
      "Epoch 42/100\n",
      "40/40 [==============================] - 26s 638ms/step - loss: 0.2879 - acc: 0.8820 - val_loss: 0.4386 - val_acc: 0.8106\n",
      "Epoch 43/100\n",
      "40/40 [==============================] - 28s 705ms/step - loss: 0.3450 - acc: 0.8555 - val_loss: 0.3978 - val_acc: 0.8310\n",
      "Epoch 44/100\n",
      "40/40 [==============================] - 31s 787ms/step - loss: 0.3178 - acc: 0.8617 - val_loss: 0.4062 - val_acc: 0.8247\n",
      "Epoch 45/100\n",
      "40/40 [==============================] - 26s 651ms/step - loss: 0.2935 - acc: 0.8823 - val_loss: 0.4416 - val_acc: 0.8044\n",
      "Epoch 46/100\n",
      "40/40 [==============================] - 25s 620ms/step - loss: 0.3099 - acc: 0.8687 - val_loss: 0.4073 - val_acc: 0.8138\n",
      "Epoch 47/100\n",
      "40/40 [==============================] - 26s 650ms/step - loss: 0.2806 - acc: 0.8713 - val_loss: 0.4021 - val_acc: 0.8232\n",
      "Epoch 48/100\n",
      "40/40 [==============================] - 32s 796ms/step - loss: 0.3626 - acc: 0.8445 - val_loss: 0.3373 - val_acc: 0.8654\n",
      "Epoch 49/100\n",
      "40/40 [==============================] - 32s 812ms/step - loss: 0.2690 - acc: 0.8797 - val_loss: 0.4603 - val_acc: 0.8200\n",
      "Epoch 50/100\n",
      "40/40 [==============================] - 32s 799ms/step - loss: 0.2806 - acc: 0.8849 - val_loss: 0.4190 - val_acc: 0.8200\n",
      "Epoch 51/100\n",
      "40/40 [==============================] - 34s 861ms/step - loss: 0.2790 - acc: 0.8945 - val_loss: 0.3522 - val_acc: 0.8435\n",
      "Epoch 52/100\n",
      "40/40 [==============================] - 29s 720ms/step - loss: 0.2730 - acc: 0.8914 - val_loss: 0.3673 - val_acc: 0.8623\n",
      "Epoch 53/100\n",
      "40/40 [==============================] - 35s 870ms/step - loss: 0.2640 - acc: 0.8857 - val_loss: 0.4518 - val_acc: 0.8185\n",
      "Epoch 54/100\n",
      "40/40 [==============================] - 35s 868ms/step - loss: 0.3027 - acc: 0.8638 - val_loss: 0.4172 - val_acc: 0.8059\n",
      "Epoch 55/100\n",
      "40/40 [==============================] - 28s 707ms/step - loss: 0.2601 - acc: 0.8995 - val_loss: 0.3584 - val_acc: 0.8623\n",
      "Epoch 56/100\n",
      "40/40 [==============================] - 27s 669ms/step - loss: 0.2561 - acc: 0.8805 - val_loss: 0.4487 - val_acc: 0.8279\n",
      "Epoch 57/100\n",
      "40/40 [==============================] - 28s 694ms/step - loss: 0.2701 - acc: 0.8797 - val_loss: 0.3596 - val_acc: 0.8574\n",
      "Epoch 58/100\n",
      "40/40 [==============================] - 25s 617ms/step - loss: 0.1926 - acc: 0.9227 - val_loss: 0.3715 - val_acc: 0.8701\n",
      "Epoch 59/100\n",
      "40/40 [==============================] - 25s 636ms/step - loss: 0.2216 - acc: 0.8940 - val_loss: 0.3678 - val_acc: 0.8717\n",
      "Epoch 60/100\n",
      "40/40 [==============================] - 24s 600ms/step - loss: 0.2345 - acc: 0.8891 - val_loss: 0.3900 - val_acc: 0.8498\n",
      "Epoch 61/100\n",
      "40/40 [==============================] - 25s 628ms/step - loss: 0.2055 - acc: 0.9203 - val_loss: 0.3749 - val_acc: 0.8638\n"
     ]
    },
    {
     "name": "stdout",
     "output_type": "stream",
     "text": [
      "Epoch 62/100\n",
      "40/40 [==============================] - 26s 651ms/step - loss: 0.1809 - acc: 0.9365 - val_loss: 0.3250 - val_acc: 0.8842\n",
      "Epoch 63/100\n",
      "40/40 [==============================] - 27s 675ms/step - loss: 0.2058 - acc: 0.9154 - val_loss: 0.5319 - val_acc: 0.7997\n",
      "Epoch 64/100\n",
      "40/40 [==============================] - 25s 631ms/step - loss: 0.2643 - acc: 0.8971 - val_loss: 0.3933 - val_acc: 0.8388\n",
      "Epoch 65/100\n",
      "40/40 [==============================] - 27s 669ms/step - loss: 0.2374 - acc: 0.9047 - val_loss: 0.3199 - val_acc: 0.8717\n",
      "Epoch 66/100\n",
      "40/40 [==============================] - 29s 731ms/step - loss: 0.2006 - acc: 0.9206 - val_loss: 0.3831 - val_acc: 0.8560\n",
      "Epoch 67/100\n",
      "40/40 [==============================] - 26s 662ms/step - loss: 0.2007 - acc: 0.9130 - val_loss: 0.2888 - val_acc: 0.8764\n",
      "Epoch 68/100\n",
      "40/40 [==============================] - 24s 600ms/step - loss: 0.2343 - acc: 0.9102 - val_loss: 0.4435 - val_acc: 0.8028\n",
      "Epoch 69/100\n",
      "40/40 [==============================] - 24s 603ms/step - loss: 0.2175 - acc: 0.9068 - val_loss: 0.2725 - val_acc: 0.8920\n",
      "Epoch 70/100\n",
      "40/40 [==============================] - 24s 589ms/step - loss: 0.1721 - acc: 0.9323 - val_loss: 0.3260 - val_acc: 0.8654\n",
      "Epoch 71/100\n",
      "40/40 [==============================] - 24s 602ms/step - loss: 0.1825 - acc: 0.9221 - val_loss: 0.3094 - val_acc: 0.8795\n",
      "Epoch 72/100\n",
      "40/40 [==============================] - 27s 687ms/step - loss: 0.2153 - acc: 0.9070 - val_loss: 0.3349 - val_acc: 0.8654\n",
      "Epoch 73/100\n",
      "40/40 [==============================] - 29s 717ms/step - loss: 0.1549 - acc: 0.9399 - val_loss: 0.3440 - val_acc: 0.8842\n",
      "Epoch 74/100\n",
      "40/40 [==============================] - 30s 739ms/step - loss: 0.1412 - acc: 0.9383 - val_loss: 0.3255 - val_acc: 0.8685\n",
      "Epoch 75/100\n",
      "40/40 [==============================] - 26s 647ms/step - loss: 0.1626 - acc: 0.9367 - val_loss: 0.4886 - val_acc: 0.8122\n",
      "Epoch 76/100\n",
      "40/40 [==============================] - 24s 611ms/step - loss: 0.1525 - acc: 0.9445 - val_loss: 0.3424 - val_acc: 0.8840\n",
      "Epoch 77/100\n",
      "40/40 [==============================] - 25s 615ms/step - loss: 0.1223 - acc: 0.9466 - val_loss: 0.2965 - val_acc: 0.9014\n",
      "Epoch 78/100\n",
      "40/40 [==============================] - 24s 597ms/step - loss: 0.1477 - acc: 0.9435 - val_loss: 0.2958 - val_acc: 0.8920\n",
      "Epoch 79/100\n",
      "40/40 [==============================] - 24s 601ms/step - loss: 0.1286 - acc: 0.9550 - val_loss: 0.2902 - val_acc: 0.8983\n",
      "Epoch 80/100\n",
      "40/40 [==============================] - 24s 592ms/step - loss: 0.1803 - acc: 0.9203 - val_loss: 0.4298 - val_acc: 0.8404\n",
      "Epoch 81/100\n",
      "40/40 [==============================] - 24s 609ms/step - loss: 0.2103 - acc: 0.9190 - val_loss: 0.3658 - val_acc: 0.8529\n",
      "Epoch 82/100\n",
      "40/40 [==============================] - 24s 598ms/step - loss: 0.2329 - acc: 0.9120 - val_loss: 0.3333 - val_acc: 0.8732\n",
      "Epoch 83/100\n",
      "40/40 [==============================] - 26s 660ms/step - loss: 0.1494 - acc: 0.9359 - val_loss: 0.3321 - val_acc: 0.8748\n",
      "Epoch 84/100\n",
      "40/40 [==============================] - 28s 712ms/step - loss: 0.1129 - acc: 0.9576 - val_loss: 0.2957 - val_acc: 0.8826\n",
      "Epoch 85/100\n",
      "40/40 [==============================] - 27s 682ms/step - loss: 0.1346 - acc: 0.9508 - val_loss: 0.3657 - val_acc: 0.8779\n",
      "Epoch 86/100\n",
      "40/40 [==============================] - 27s 673ms/step - loss: 0.1423 - acc: 0.9461 - val_loss: 0.3609 - val_acc: 0.8795\n",
      "Epoch 87/100\n",
      "40/40 [==============================] - 27s 682ms/step - loss: 0.1176 - acc: 0.9547 - val_loss: 0.3148 - val_acc: 0.8889\n",
      "Epoch 88/100\n",
      "40/40 [==============================] - 24s 612ms/step - loss: 0.1370 - acc: 0.9406 - val_loss: 0.2725 - val_acc: 0.9077\n",
      "Epoch 89/100\n",
      "40/40 [==============================] - 34s 842ms/step - loss: 0.0694 - acc: 0.9797 - val_loss: 0.2805 - val_acc: 0.9014\n",
      "Epoch 90/100\n",
      "40/40 [==============================] - 28s 700ms/step - loss: 0.1129 - acc: 0.9602 - val_loss: 0.3557 - val_acc: 0.8983\n",
      "Epoch 91/100\n",
      "40/40 [==============================] - 28s 706ms/step - loss: 0.0748 - acc: 0.9734 - val_loss: 0.3094 - val_acc: 0.9030\n",
      "Epoch 92/100\n",
      "40/40 [==============================] - 28s 697ms/step - loss: 0.1001 - acc: 0.9602 - val_loss: 0.3752 - val_acc: 0.8873\n",
      "Epoch 93/100\n",
      "40/40 [==============================] - 28s 691ms/step - loss: 0.1280 - acc: 0.9547 - val_loss: 0.4142 - val_acc: 0.8576\n",
      "Epoch 94/100\n",
      "40/40 [==============================] - 28s 689ms/step - loss: 0.1262 - acc: 0.9565 - val_loss: 0.3110 - val_acc: 0.9014\n",
      "Epoch 95/100\n",
      "40/40 [==============================] - 27s 672ms/step - loss: 0.1079 - acc: 0.9583 - val_loss: 0.3422 - val_acc: 0.8730\n",
      "Epoch 96/100\n",
      "40/40 [==============================] - 28s 711ms/step - loss: 0.0946 - acc: 0.9672 - val_loss: 0.3131 - val_acc: 0.9092\n",
      "Epoch 97/100\n",
      "40/40 [==============================] - 29s 725ms/step - loss: 0.1048 - acc: 0.9602 - val_loss: 0.4434 - val_acc: 0.8717\n",
      "Epoch 98/100\n",
      "40/40 [==============================] - 32s 811ms/step - loss: 0.1157 - acc: 0.9591 - val_loss: 0.2681 - val_acc: 0.9171\n",
      "Epoch 99/100\n",
      "40/40 [==============================] - 30s 743ms/step - loss: 0.0581 - acc: 0.9813 - val_loss: 0.3480 - val_acc: 0.8936\n",
      "Epoch 100/100\n",
      "40/40 [==============================] - 24s 608ms/step - loss: 0.0550 - acc: 0.9797 - val_loss: 0.3242 - val_acc: 0.8967\n"
     ]
    },
    {
     "ename": "OSError",
     "evalue": "Unable to create file (unable to open file: name = 'C:\\Users\\Aditya Verma\\Desktop\\Rajasthan4\\Trained', errno = 13, error message = 'Permission denied', flags = 13, o_flags = 302)",
     "output_type": "error",
     "traceback": [
      "\u001b[1;31m---------------------------------------------------------------------------\u001b[0m",
      "\u001b[1;31mOSError\u001b[0m                                   Traceback (most recent call last)",
      "\u001b[1;32m<ipython-input-14-38d9d0a690b8>\u001b[0m in \u001b[0;36m<module>\u001b[1;34m()\u001b[0m\n\u001b[0;32m      5\u001b[0m validation_steps = 20)\n\u001b[0;32m      6\u001b[0m \u001b[1;33m\u001b[0m\u001b[0m\n\u001b[1;32m----> 7\u001b[1;33m \u001b[0mclassifier\u001b[0m\u001b[1;33m.\u001b[0m\u001b[0msave_weights\u001b[0m\u001b[1;33m(\u001b[0m\u001b[1;34mr\"C:\\Users\\Aditya Verma\\Desktop\\Rajasthan4\\Trained\"\u001b[0m\u001b[1;33m)\u001b[0m\u001b[1;33m\u001b[0m\u001b[0m\n\u001b[0m",
      "\u001b[1;32m~\\Anaconda3\\lib\\site-packages\\keras\\models.py\u001b[0m in \u001b[0;36msave_weights\u001b[1;34m(self, filepath, overwrite)\u001b[0m\n\u001b[0;32m    752\u001b[0m             \u001b[0mlayers\u001b[0m \u001b[1;33m=\u001b[0m \u001b[0mself\u001b[0m\u001b[1;33m.\u001b[0m\u001b[0mlayers\u001b[0m\u001b[1;33m\u001b[0m\u001b[0m\n\u001b[0;32m    753\u001b[0m \u001b[1;33m\u001b[0m\u001b[0m\n\u001b[1;32m--> 754\u001b[1;33m         \u001b[1;32mwith\u001b[0m \u001b[0mh5py\u001b[0m\u001b[1;33m.\u001b[0m\u001b[0mFile\u001b[0m\u001b[1;33m(\u001b[0m\u001b[0mfilepath\u001b[0m\u001b[1;33m,\u001b[0m \u001b[1;34m'w'\u001b[0m\u001b[1;33m)\u001b[0m \u001b[1;32mas\u001b[0m \u001b[0mf\u001b[0m\u001b[1;33m:\u001b[0m\u001b[1;33m\u001b[0m\u001b[0m\n\u001b[0m\u001b[0;32m    755\u001b[0m             \u001b[0mtopology\u001b[0m\u001b[1;33m.\u001b[0m\u001b[0msave_weights_to_hdf5_group\u001b[0m\u001b[1;33m(\u001b[0m\u001b[0mf\u001b[0m\u001b[1;33m,\u001b[0m \u001b[0mlayers\u001b[0m\u001b[1;33m)\u001b[0m\u001b[1;33m\u001b[0m\u001b[0m\n\u001b[0;32m    756\u001b[0m             \u001b[0mf\u001b[0m\u001b[1;33m.\u001b[0m\u001b[0mflush\u001b[0m\u001b[1;33m(\u001b[0m\u001b[1;33m)\u001b[0m\u001b[1;33m\u001b[0m\u001b[0m\n",
      "\u001b[1;32m~\\Anaconda3\\lib\\site-packages\\h5py\\_hl\\files.py\u001b[0m in \u001b[0;36m__init__\u001b[1;34m(self, name, mode, driver, libver, userblock_size, swmr, **kwds)\u001b[0m\n\u001b[0;32m    267\u001b[0m             \u001b[1;32mwith\u001b[0m \u001b[0mphil\u001b[0m\u001b[1;33m:\u001b[0m\u001b[1;33m\u001b[0m\u001b[0m\n\u001b[0;32m    268\u001b[0m                 \u001b[0mfapl\u001b[0m \u001b[1;33m=\u001b[0m \u001b[0mmake_fapl\u001b[0m\u001b[1;33m(\u001b[0m\u001b[0mdriver\u001b[0m\u001b[1;33m,\u001b[0m \u001b[0mlibver\u001b[0m\u001b[1;33m,\u001b[0m \u001b[1;33m**\u001b[0m\u001b[0mkwds\u001b[0m\u001b[1;33m)\u001b[0m\u001b[1;33m\u001b[0m\u001b[0m\n\u001b[1;32m--> 269\u001b[1;33m                 \u001b[0mfid\u001b[0m \u001b[1;33m=\u001b[0m \u001b[0mmake_fid\u001b[0m\u001b[1;33m(\u001b[0m\u001b[0mname\u001b[0m\u001b[1;33m,\u001b[0m \u001b[0mmode\u001b[0m\u001b[1;33m,\u001b[0m \u001b[0muserblock_size\u001b[0m\u001b[1;33m,\u001b[0m \u001b[0mfapl\u001b[0m\u001b[1;33m,\u001b[0m \u001b[0mswmr\u001b[0m\u001b[1;33m=\u001b[0m\u001b[0mswmr\u001b[0m\u001b[1;33m)\u001b[0m\u001b[1;33m\u001b[0m\u001b[0m\n\u001b[0m\u001b[0;32m    270\u001b[0m \u001b[1;33m\u001b[0m\u001b[0m\n\u001b[0;32m    271\u001b[0m                 \u001b[1;32mif\u001b[0m \u001b[0mswmr_support\u001b[0m\u001b[1;33m:\u001b[0m\u001b[1;33m\u001b[0m\u001b[0m\n",
      "\u001b[1;32m~\\Anaconda3\\lib\\site-packages\\h5py\\_hl\\files.py\u001b[0m in \u001b[0;36mmake_fid\u001b[1;34m(name, mode, userblock_size, fapl, fcpl, swmr)\u001b[0m\n\u001b[0;32m    103\u001b[0m         \u001b[0mfid\u001b[0m \u001b[1;33m=\u001b[0m \u001b[0mh5f\u001b[0m\u001b[1;33m.\u001b[0m\u001b[0mcreate\u001b[0m\u001b[1;33m(\u001b[0m\u001b[0mname\u001b[0m\u001b[1;33m,\u001b[0m \u001b[0mh5f\u001b[0m\u001b[1;33m.\u001b[0m\u001b[0mACC_EXCL\u001b[0m\u001b[1;33m,\u001b[0m \u001b[0mfapl\u001b[0m\u001b[1;33m=\u001b[0m\u001b[0mfapl\u001b[0m\u001b[1;33m,\u001b[0m \u001b[0mfcpl\u001b[0m\u001b[1;33m=\u001b[0m\u001b[0mfcpl\u001b[0m\u001b[1;33m)\u001b[0m\u001b[1;33m\u001b[0m\u001b[0m\n\u001b[0;32m    104\u001b[0m     \u001b[1;32melif\u001b[0m \u001b[0mmode\u001b[0m \u001b[1;33m==\u001b[0m \u001b[1;34m'w'\u001b[0m\u001b[1;33m:\u001b[0m\u001b[1;33m\u001b[0m\u001b[0m\n\u001b[1;32m--> 105\u001b[1;33m         \u001b[0mfid\u001b[0m \u001b[1;33m=\u001b[0m \u001b[0mh5f\u001b[0m\u001b[1;33m.\u001b[0m\u001b[0mcreate\u001b[0m\u001b[1;33m(\u001b[0m\u001b[0mname\u001b[0m\u001b[1;33m,\u001b[0m \u001b[0mh5f\u001b[0m\u001b[1;33m.\u001b[0m\u001b[0mACC_TRUNC\u001b[0m\u001b[1;33m,\u001b[0m \u001b[0mfapl\u001b[0m\u001b[1;33m=\u001b[0m\u001b[0mfapl\u001b[0m\u001b[1;33m,\u001b[0m \u001b[0mfcpl\u001b[0m\u001b[1;33m=\u001b[0m\u001b[0mfcpl\u001b[0m\u001b[1;33m)\u001b[0m\u001b[1;33m\u001b[0m\u001b[0m\n\u001b[0m\u001b[0;32m    106\u001b[0m     \u001b[1;32melif\u001b[0m \u001b[0mmode\u001b[0m \u001b[1;33m==\u001b[0m \u001b[1;34m'a'\u001b[0m\u001b[1;33m:\u001b[0m\u001b[1;33m\u001b[0m\u001b[0m\n\u001b[0;32m    107\u001b[0m         \u001b[1;31m# Open in append mode (read/write).\u001b[0m\u001b[1;33m\u001b[0m\u001b[1;33m\u001b[0m\u001b[0m\n",
      "\u001b[1;32mh5py\\_objects.pyx\u001b[0m in \u001b[0;36mh5py._objects.with_phil.wrapper\u001b[1;34m()\u001b[0m\n",
      "\u001b[1;32mh5py\\_objects.pyx\u001b[0m in \u001b[0;36mh5py._objects.with_phil.wrapper\u001b[1;34m()\u001b[0m\n",
      "\u001b[1;32mh5py\\h5f.pyx\u001b[0m in \u001b[0;36mh5py.h5f.create\u001b[1;34m()\u001b[0m\n",
      "\u001b[1;31mOSError\u001b[0m: Unable to create file (unable to open file: name = 'C:\\Users\\Aditya Verma\\Desktop\\Rajasthan4\\Trained', errno = 13, error message = 'Permission denied', flags = 13, o_flags = 302)"
     ]
    }
   ],
   "source": [
    "classifier.fit_generator(training_set,\n",
    "steps_per_epoch = 40,\n",
    "epochs = 100,\n",
    "validation_data = test_set,\n",
    "validation_steps = 20)\n",
    "\n"
   ]
  },
  {
   "cell_type": "code",
   "execution_count": 15,
   "metadata": {},
   "outputs": [],
   "source": [
    "classifier.save_weights(r\"C:\\Users\\Aditya Verma\\Desktop\\Rajasthan4\\Trained\\weights.hdf5\")"
   ]
  },
  {
   "cell_type": "code",
   "execution_count": 25,
   "metadata": {},
   "outputs": [
    {
     "name": "stdout",
     "output_type": "stream",
     "text": [
      "{'biode': 0, 'nonbiode': 1}\n",
      "[[0.]]\n"
     ]
    }
   ],
   "source": [
    "# Part 3 - Making new predictions\n",
    "import numpy as np\n",
    "from keras.preprocessing import image\n",
    "test_image = image.load_img(r\"C:\\Users\\Aditya Verma\\Desktop\\Rajasthan4\\Hack36_Pyenoma-artigent-master\\Hack36_Pyenoma-artigent-master\\test\\biode\\cardboard18 (copy).jpg\", target_size = (64, 64))\n",
    "test_image.show()\n",
    "test_image = image.img_to_array(test_image)\n",
    "test_image = np.expand_dims(test_image, axis = 0)\n",
    "classifier.load_weights(r\"C:\\Users\\Aditya Verma\\Desktop\\Rajasthan4\\Trained\\weights.hdf5\",by_name=False)\n",
    "result = classifier.predict(test_image)\n",
    "print(training_set.class_indices)\n",
    "print (result)"
   ]
  },
  {
   "cell_type": "code",
   "execution_count": null,
   "metadata": {},
   "outputs": [],
   "source": []
  }
 ],
 "metadata": {
  "kernelspec": {
   "display_name": "Python 3",
   "language": "python",
   "name": "python3"
  },
  "language_info": {
   "codemirror_mode": {
    "name": "ipython",
    "version": 3
   },
   "file_extension": ".py",
   "mimetype": "text/x-python",
   "name": "python",
   "nbconvert_exporter": "python",
   "pygments_lexer": "ipython3",
   "version": "3.6.4"
  }
 },
 "nbformat": 4,
 "nbformat_minor": 2
}
